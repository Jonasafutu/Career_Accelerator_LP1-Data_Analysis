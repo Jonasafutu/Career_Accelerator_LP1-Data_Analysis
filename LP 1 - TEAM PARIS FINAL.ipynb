{
 "cells": [
  {
   "cell_type": "markdown",
   "id": "9ceb774a",
   "metadata": {},
   "source": [
    "# TEAM PARIS \n",
    "\n",
    "# LP1 "
   ]
  },
  {
   "cell_type": "markdown",
   "id": "286f4889",
   "metadata": {},
   "source": [
    "# Data Analysis Project - Indian Start-up Funding Analysis"
   ]
  },
  {
   "cell_type": "markdown",
   "id": "563f0697",
   "metadata": {},
   "source": [
    "# Project Description "
   ]
  },
  {
   "cell_type": "markdown",
   "id": "f25743a0",
   "metadata": {},
   "source": [
    "Our team is trying to venture into the Indian start-up ecosystem. As the data experts of the team we are to investigate the ecosystem and propose the best course of action. "
   ]
  },
  {
   "cell_type": "markdown",
   "id": "d1695127",
   "metadata": {},
   "source": [
    "Our task is to develop a unique story from this dataset by stating and\n",
    "testing a hypothesis, asking questions, perform analysis and share\n",
    "insights with appropriate visualisations.\n",
    "\n",
    "So as part of the project you are to:\n",
    "\n",
    "-   Ask questions\n",
    "\n",
    "-   Develop hypothesis\n",
    "\n",
    "-   Process the data\n",
    "\n",
    "-   Analyse the data\n",
    "\n",
    "-   Visualise the data\n",
    "\n",
    "-   Test our Hypothesis \n",
    "\n",
    "-  Merge and publish to PowerbI"
   ]
  },
  {
   "cell_type": "markdown",
   "id": "dab4f141-dd60-49d4-9cfe-f623fd24af21",
   "metadata": {},
   "source": [
    "# Questions "
   ]
  },
  {
   "cell_type": "markdown",
   "id": "47994f82-8900-4f86-82e5-34eff1a017d5",
   "metadata": {},
   "source": [
    "1. At what stage did most companies received funding ?\n",
    "\n",
    "\n",
    "2. Does the location influence of the most funding stage  ?\n",
    "   \n",
    "\n",
    "3. a) What are the top 10 most funded companies/sectors ? \n",
    "   \n",
    "   b) What stage are the the top 10 most funded companies/sectors ? \n",
    "   \n",
    "\n",
    "4. What city/ location does the most funding go to ?\n",
    "\n",
    "    (Regardless of stage , since Question 2 addressed part of it)\n",
    "\n",
    "\n",
    "5. Who are the most Funding investors for the most funded year ?\n",
    "\n",
    "   ( For the years 2019, 2020)\n",
    "   \n",
    "   \n",
    "6. What has the funding over the years trend been like ? \n",
    "    \n",
    "    a) What year was the most funding given ? \n",
    "    \n",
    "    b) What is the average funding for every year ? \n",
    "\n",
    "    c) What is the % increase in funding from year to year ?"
   ]
  },
  {
   "cell_type": "markdown",
   "id": "4f883f8e-d528-4d06-bf29-0c159f47b1ba",
   "metadata": {},
   "source": [
    "# HYPOTHESIS  "
   ]
  },
  {
   "cell_type": "markdown",
   "id": "28b4ebac-1421-4e54-9e7a-31431080a2f5",
   "metadata": {},
   "source": [
    "\n",
    "\n",
    "## Hypothesis \n",
    "#### Funding has been increasing over the years \n",
    "\n",
    "\n",
    "##  Alternate Hypothesis\n",
    "#### Funding has remained constant over the years  "
   ]
  },
  {
   "cell_type": "markdown",
   "id": "3bc02c3a",
   "metadata": {},
   "source": [
    "# IMPORT LIBRARIES "
   ]
  },
  {
   "cell_type": "code",
   "execution_count": 1,
   "id": "cb277270",
   "metadata": {},
   "outputs": [],
   "source": [
    "import pandas as pd \n",
    "\n",
    "import numpy as np \n",
    " \n",
    "import seaborn as sns \n",
    "\n",
    "import matplotlib.pyplot as plt \n",
    "\n",
    "\n",
    "#import Summarytools \n",
    "#pip install pynput\n",
    "\n",
    "import warnings\n",
    "warnings.filterwarnings('ignore')\n"
   ]
  },
  {
   "cell_type": "markdown",
   "id": "da1ac44c",
   "metadata": {},
   "source": [
    "# IMPORTING THE DATASETS"
   ]
  },
  {
   "cell_type": "code",
   "execution_count": 2,
   "id": "60657412",
   "metadata": {},
   "outputs": [],
   "source": [
    "funding_2018 = pd.read_csv('startup_funding2018.csv')\n",
    "funding_2019 = pd.read_csv('startup_funding2019.csv')\n",
    "funding_2020 = pd.read_csv('startup_funding2020.csv')\n",
    "funding_2021 = pd.read_csv('startup_funding2021.csv')"
   ]
  },
  {
   "cell_type": "code",
   "execution_count": 3,
   "id": "f9fd4e97",
   "metadata": {},
   "outputs": [],
   "source": [
    "# LOOK AT AN OVERVIEW OF OUR DATASET"
   ]
  },
  {
   "cell_type": "code",
   "execution_count": 4,
   "id": "9ef29ad5",
   "metadata": {},
   "outputs": [
    {
     "data": {
      "text/html": [
       "<div>\n",
       "<style scoped>\n",
       "    .dataframe tbody tr th:only-of-type {\n",
       "        vertical-align: middle;\n",
       "    }\n",
       "\n",
       "    .dataframe tbody tr th {\n",
       "        vertical-align: top;\n",
       "    }\n",
       "\n",
       "    .dataframe thead th {\n",
       "        text-align: right;\n",
       "    }\n",
       "</style>\n",
       "<table border=\"1\" class=\"dataframe\">\n",
       "  <thead>\n",
       "    <tr style=\"text-align: right;\">\n",
       "      <th></th>\n",
       "      <th>Company/Brand</th>\n",
       "      <th>Founded</th>\n",
       "      <th>HeadQuarter</th>\n",
       "      <th>Sector</th>\n",
       "      <th>What it does</th>\n",
       "      <th>Founders</th>\n",
       "      <th>Investor</th>\n",
       "      <th>Amount($)</th>\n",
       "      <th>Stage</th>\n",
       "    </tr>\n",
       "  </thead>\n",
       "  <tbody>\n",
       "    <tr>\n",
       "      <th>0</th>\n",
       "      <td>Bombay Shaving</td>\n",
       "      <td>NaN</td>\n",
       "      <td>NaN</td>\n",
       "      <td>Ecommerce</td>\n",
       "      <td>Provides a range of male grooming products</td>\n",
       "      <td>Shantanu Deshpande</td>\n",
       "      <td>Sixth Sense Ventures</td>\n",
       "      <td>$6,300,000</td>\n",
       "      <td>NaN</td>\n",
       "    </tr>\n",
       "    <tr>\n",
       "      <th>1</th>\n",
       "      <td>Ruangguru</td>\n",
       "      <td>2014.0</td>\n",
       "      <td>Mumbai</td>\n",
       "      <td>Edtech</td>\n",
       "      <td>A learning platform that provides topic-based ...</td>\n",
       "      <td>Adamas Belva Syah Devara, Iman Usman.</td>\n",
       "      <td>General Atlantic</td>\n",
       "      <td>$150,000,000</td>\n",
       "      <td>Series C</td>\n",
       "    </tr>\n",
       "    <tr>\n",
       "      <th>2</th>\n",
       "      <td>Eduisfun</td>\n",
       "      <td>NaN</td>\n",
       "      <td>Mumbai</td>\n",
       "      <td>Edtech</td>\n",
       "      <td>It aims to make learning fun via games.</td>\n",
       "      <td>Jatin Solanki</td>\n",
       "      <td>Deepak Parekh, Amitabh Bachchan, Piyush Pandey</td>\n",
       "      <td>$28,000,000</td>\n",
       "      <td>Fresh funding</td>\n",
       "    </tr>\n",
       "  </tbody>\n",
       "</table>\n",
       "</div>"
      ],
      "text/plain": [
       "    Company/Brand  Founded HeadQuarter     Sector  \\\n",
       "0  Bombay Shaving      NaN         NaN  Ecommerce   \n",
       "1       Ruangguru   2014.0      Mumbai     Edtech   \n",
       "2        Eduisfun      NaN      Mumbai     Edtech   \n",
       "\n",
       "                                        What it does  \\\n",
       "0         Provides a range of male grooming products   \n",
       "1  A learning platform that provides topic-based ...   \n",
       "2            It aims to make learning fun via games.   \n",
       "\n",
       "                                Founders  \\\n",
       "0                     Shantanu Deshpande   \n",
       "1  Adamas Belva Syah Devara, Iman Usman.   \n",
       "2                          Jatin Solanki   \n",
       "\n",
       "                                         Investor     Amount($)          Stage  \n",
       "0                            Sixth Sense Ventures    $6,300,000            NaN  \n",
       "1                                General Atlantic  $150,000,000       Series C  \n",
       "2  Deepak Parekh, Amitabh Bachchan, Piyush Pandey   $28,000,000  Fresh funding  "
      ]
     },
     "execution_count": 4,
     "metadata": {},
     "output_type": "execute_result"
    }
   ],
   "source": [
    "funding_2019.head(3)"
   ]
  },
  {
   "cell_type": "code",
   "execution_count": 5,
   "id": "935245f9",
   "metadata": {},
   "outputs": [
    {
     "data": {
      "text/html": [
       "<div>\n",
       "<style scoped>\n",
       "    .dataframe tbody tr th:only-of-type {\n",
       "        vertical-align: middle;\n",
       "    }\n",
       "\n",
       "    .dataframe tbody tr th {\n",
       "        vertical-align: top;\n",
       "    }\n",
       "\n",
       "    .dataframe thead th {\n",
       "        text-align: right;\n",
       "    }\n",
       "</style>\n",
       "<table border=\"1\" class=\"dataframe\">\n",
       "  <thead>\n",
       "    <tr style=\"text-align: right;\">\n",
       "      <th></th>\n",
       "      <th>Company/Brand</th>\n",
       "      <th>Founded</th>\n",
       "      <th>HeadQuarter</th>\n",
       "      <th>Sector</th>\n",
       "      <th>What it does</th>\n",
       "      <th>Founders</th>\n",
       "      <th>Investor</th>\n",
       "      <th>Amount($)</th>\n",
       "      <th>Stage</th>\n",
       "      <th>Unnamed: 9</th>\n",
       "    </tr>\n",
       "  </thead>\n",
       "  <tbody>\n",
       "    <tr>\n",
       "      <th>0</th>\n",
       "      <td>Aqgromalin</td>\n",
       "      <td>2019</td>\n",
       "      <td>Chennai</td>\n",
       "      <td>AgriTech</td>\n",
       "      <td>Cultivating Ideas for Profit</td>\n",
       "      <td>Prasanna Manogaran, Bharani C L</td>\n",
       "      <td>Angel investors</td>\n",
       "      <td>$200,000</td>\n",
       "      <td>NaN</td>\n",
       "      <td>NaN</td>\n",
       "    </tr>\n",
       "    <tr>\n",
       "      <th>1</th>\n",
       "      <td>Krayonnz</td>\n",
       "      <td>2019</td>\n",
       "      <td>Bangalore</td>\n",
       "      <td>EdTech</td>\n",
       "      <td>An academy-guardian-scholar centric ecosystem ...</td>\n",
       "      <td>Saurabh Dixit, Gurudutt Upadhyay</td>\n",
       "      <td>GSF Accelerator</td>\n",
       "      <td>$100,000</td>\n",
       "      <td>Pre-seed</td>\n",
       "      <td>NaN</td>\n",
       "    </tr>\n",
       "    <tr>\n",
       "      <th>2</th>\n",
       "      <td>PadCare Labs</td>\n",
       "      <td>2018</td>\n",
       "      <td>Pune</td>\n",
       "      <td>Hygiene management</td>\n",
       "      <td>Converting bio-hazardous waste to harmless waste</td>\n",
       "      <td>Ajinkya Dhariya</td>\n",
       "      <td>Venture Center</td>\n",
       "      <td>Undisclosed</td>\n",
       "      <td>Pre-seed</td>\n",
       "      <td>NaN</td>\n",
       "    </tr>\n",
       "  </tbody>\n",
       "</table>\n",
       "</div>"
      ],
      "text/plain": [
       "  Company/Brand Founded HeadQuarter              Sector  \\\n",
       "0    Aqgromalin    2019     Chennai            AgriTech   \n",
       "1      Krayonnz    2019   Bangalore              EdTech   \n",
       "2  PadCare Labs    2018        Pune  Hygiene management   \n",
       "\n",
       "                                        What it does  \\\n",
       "0                       Cultivating Ideas for Profit   \n",
       "1  An academy-guardian-scholar centric ecosystem ...   \n",
       "2   Converting bio-hazardous waste to harmless waste   \n",
       "\n",
       "                           Founders         Investor    Amount($)     Stage  \\\n",
       "0   Prasanna Manogaran, Bharani C L  Angel investors     $200,000       NaN   \n",
       "1  Saurabh Dixit, Gurudutt Upadhyay  GSF Accelerator     $100,000  Pre-seed   \n",
       "2                   Ajinkya Dhariya   Venture Center  Undisclosed  Pre-seed   \n",
       "\n",
       "  Unnamed: 9  \n",
       "0        NaN  \n",
       "1        NaN  \n",
       "2        NaN  "
      ]
     },
     "execution_count": 5,
     "metadata": {},
     "output_type": "execute_result"
    }
   ],
   "source": [
    "funding_2020.head(3)"
   ]
  },
  {
   "cell_type": "code",
   "execution_count": 6,
   "id": "322df664",
   "metadata": {},
   "outputs": [
    {
     "data": {
      "text/html": [
       "<div>\n",
       "<style scoped>\n",
       "    .dataframe tbody tr th:only-of-type {\n",
       "        vertical-align: middle;\n",
       "    }\n",
       "\n",
       "    .dataframe tbody tr th {\n",
       "        vertical-align: top;\n",
       "    }\n",
       "\n",
       "    .dataframe thead th {\n",
       "        text-align: right;\n",
       "    }\n",
       "</style>\n",
       "<table border=\"1\" class=\"dataframe\">\n",
       "  <thead>\n",
       "    <tr style=\"text-align: right;\">\n",
       "      <th></th>\n",
       "      <th>Company/Brand</th>\n",
       "      <th>Founded</th>\n",
       "      <th>HeadQuarter</th>\n",
       "      <th>Sector</th>\n",
       "      <th>What it does</th>\n",
       "      <th>Founders</th>\n",
       "      <th>Investor</th>\n",
       "      <th>Amount($)</th>\n",
       "      <th>Stage</th>\n",
       "    </tr>\n",
       "  </thead>\n",
       "  <tbody>\n",
       "    <tr>\n",
       "      <th>0</th>\n",
       "      <td>Unbox Robotics</td>\n",
       "      <td>2019.0</td>\n",
       "      <td>Bangalore</td>\n",
       "      <td>AI startup</td>\n",
       "      <td>Unbox Robotics builds on-demand AI-driven ware...</td>\n",
       "      <td>Pramod Ghadge, Shahid Memon</td>\n",
       "      <td>BEENEXT, Entrepreneur First</td>\n",
       "      <td>$1,200,000</td>\n",
       "      <td>Pre-series A</td>\n",
       "    </tr>\n",
       "    <tr>\n",
       "      <th>1</th>\n",
       "      <td>upGrad</td>\n",
       "      <td>2015.0</td>\n",
       "      <td>Mumbai</td>\n",
       "      <td>EdTech</td>\n",
       "      <td>UpGrad is an online higher education platform.</td>\n",
       "      <td>Mayank Kumar, Phalgun Kompalli, Ravijot Chugh,...</td>\n",
       "      <td>Unilazer Ventures, IIFL Asset Management</td>\n",
       "      <td>$120,000,000</td>\n",
       "      <td>NaN</td>\n",
       "    </tr>\n",
       "    <tr>\n",
       "      <th>2</th>\n",
       "      <td>Lead School</td>\n",
       "      <td>2012.0</td>\n",
       "      <td>Mumbai</td>\n",
       "      <td>EdTech</td>\n",
       "      <td>LEAD School offers technology based school tra...</td>\n",
       "      <td>Smita Deorah, Sumeet Mehta</td>\n",
       "      <td>GSV Ventures, Westbridge Capital</td>\n",
       "      <td>$30,000,000</td>\n",
       "      <td>Series D</td>\n",
       "    </tr>\n",
       "  </tbody>\n",
       "</table>\n",
       "</div>"
      ],
      "text/plain": [
       "    Company/Brand  Founded HeadQuarter      Sector  \\\n",
       "0  Unbox Robotics   2019.0   Bangalore  AI startup   \n",
       "1          upGrad   2015.0      Mumbai      EdTech   \n",
       "2     Lead School   2012.0      Mumbai      EdTech   \n",
       "\n",
       "                                        What it does  \\\n",
       "0  Unbox Robotics builds on-demand AI-driven ware...   \n",
       "1     UpGrad is an online higher education platform.   \n",
       "2  LEAD School offers technology based school tra...   \n",
       "\n",
       "                                            Founders  \\\n",
       "0                        Pramod Ghadge, Shahid Memon   \n",
       "1  Mayank Kumar, Phalgun Kompalli, Ravijot Chugh,...   \n",
       "2                         Smita Deorah, Sumeet Mehta   \n",
       "\n",
       "                                   Investor     Amount($)         Stage  \n",
       "0               BEENEXT, Entrepreneur First    $1,200,000  Pre-series A  \n",
       "1  Unilazer Ventures, IIFL Asset Management  $120,000,000           NaN  \n",
       "2          GSV Ventures, Westbridge Capital   $30,000,000      Series D  "
      ]
     },
     "execution_count": 6,
     "metadata": {},
     "output_type": "execute_result"
    }
   ],
   "source": [
    "funding_2021.head(3)"
   ]
  },
  {
   "cell_type": "markdown",
   "id": "023c6a15",
   "metadata": {},
   "source": [
    " LOOK AT THE COLUMNS "
   ]
  },
  {
   "cell_type": "code",
   "execution_count": 7,
   "id": "9514efe1",
   "metadata": {},
   "outputs": [],
   "source": [
    "columns_2018 = pd.DataFrame(funding_2018.columns.values.tolist())\n",
    "columns_2019 = pd.DataFrame(funding_2019.columns.values.tolist())\n",
    "columns_2020 = pd.DataFrame(funding_2020.columns.values.tolist())\n",
    "columns_2021 = pd.DataFrame(funding_2021.columns.values.tolist())"
   ]
  },
  {
   "cell_type": "code",
   "execution_count": 8,
   "id": "221180aa",
   "metadata": {},
   "outputs": [
    {
     "data": {
      "text/html": [
       "<div>\n",
       "<style scoped>\n",
       "    .dataframe tbody tr th:only-of-type {\n",
       "        vertical-align: middle;\n",
       "    }\n",
       "\n",
       "    .dataframe tbody tr th {\n",
       "        vertical-align: top;\n",
       "    }\n",
       "\n",
       "    .dataframe thead th {\n",
       "        text-align: right;\n",
       "    }\n",
       "</style>\n",
       "<table border=\"1\" class=\"dataframe\">\n",
       "  <thead>\n",
       "    <tr style=\"text-align: right;\">\n",
       "      <th></th>\n",
       "      <th>2019_column</th>\n",
       "      <th>2018_columns</th>\n",
       "      <th>2020_columns</th>\n",
       "      <th>2021_columns</th>\n",
       "    </tr>\n",
       "  </thead>\n",
       "  <tbody>\n",
       "    <tr>\n",
       "      <th>0</th>\n",
       "      <td>Company/Brand</td>\n",
       "      <td>Company Name</td>\n",
       "      <td>Company/Brand</td>\n",
       "      <td>Company/Brand</td>\n",
       "    </tr>\n",
       "    <tr>\n",
       "      <th>1</th>\n",
       "      <td>Founded</td>\n",
       "      <td>Industry</td>\n",
       "      <td>Founded</td>\n",
       "      <td>Founded</td>\n",
       "    </tr>\n",
       "    <tr>\n",
       "      <th>2</th>\n",
       "      <td>HeadQuarter</td>\n",
       "      <td>Round/Series</td>\n",
       "      <td>HeadQuarter</td>\n",
       "      <td>HeadQuarter</td>\n",
       "    </tr>\n",
       "    <tr>\n",
       "      <th>3</th>\n",
       "      <td>Sector</td>\n",
       "      <td>Amount</td>\n",
       "      <td>Sector</td>\n",
       "      <td>Sector</td>\n",
       "    </tr>\n",
       "    <tr>\n",
       "      <th>4</th>\n",
       "      <td>What it does</td>\n",
       "      <td>Location</td>\n",
       "      <td>What it does</td>\n",
       "      <td>What it does</td>\n",
       "    </tr>\n",
       "    <tr>\n",
       "      <th>5</th>\n",
       "      <td>Founders</td>\n",
       "      <td>About Company</td>\n",
       "      <td>Founders</td>\n",
       "      <td>Founders</td>\n",
       "    </tr>\n",
       "    <tr>\n",
       "      <th>6</th>\n",
       "      <td>Investor</td>\n",
       "      <td>NaN</td>\n",
       "      <td>Investor</td>\n",
       "      <td>Investor</td>\n",
       "    </tr>\n",
       "    <tr>\n",
       "      <th>7</th>\n",
       "      <td>Amount($)</td>\n",
       "      <td>NaN</td>\n",
       "      <td>Amount($)</td>\n",
       "      <td>Amount($)</td>\n",
       "    </tr>\n",
       "    <tr>\n",
       "      <th>8</th>\n",
       "      <td>Stage</td>\n",
       "      <td>NaN</td>\n",
       "      <td>Stage</td>\n",
       "      <td>Stage</td>\n",
       "    </tr>\n",
       "  </tbody>\n",
       "</table>\n",
       "</div>"
      ],
      "text/plain": [
       "     2019_column   2018_columns   2020_columns   2021_columns\n",
       "0  Company/Brand   Company Name  Company/Brand  Company/Brand\n",
       "1        Founded       Industry        Founded        Founded\n",
       "2    HeadQuarter   Round/Series    HeadQuarter    HeadQuarter\n",
       "3         Sector         Amount         Sector         Sector\n",
       "4   What it does       Location   What it does   What it does\n",
       "5       Founders  About Company       Founders       Founders\n",
       "6       Investor            NaN       Investor       Investor\n",
       "7      Amount($)            NaN      Amount($)      Amount($)\n",
       "8          Stage            NaN          Stage          Stage"
      ]
     },
     "execution_count": 8,
     "metadata": {},
     "output_type": "execute_result"
    }
   ],
   "source": [
    "# Get the columns \n",
    "inner =columns_2019.join(columns_2018, lsuffix='_columns_2018')\n",
    "inner2 = columns_2020.join(columns_2021, lsuffix='_columns_2020')\n",
    "joined = inner.join(inner2, lsuffix='_2019')\n",
    "\n",
    "# RENAME COLUMN\n",
    "column_names = joined\n",
    "new = column_names.rename( columns = \n",
    "                          {'0_columns_2018':' 2019_column',\n",
    "                           '0_2019': '2018_columns', \n",
    "                           '0_columns_2020' : '2020_columns',\n",
    "                           '0' :'2021_columns'})\n",
    "new"
   ]
  },
  {
   "cell_type": "markdown",
   "id": "ae8e34e6",
   "metadata": {},
   "source": [
    "## Deductions from overview of the data \n",
    "\n",
    "**DEDUCTIONS** \n",
    "1. Round/series in 2018 column is similar to Stage in the 2019/2021/2020 dataset\n",
    "\n",
    "\n",
    "2. Industry in 2018 column is similar to Sector in the 2019/2021/2020 dataset\n",
    "\n",
    "\n",
    "3. 2018_column set doesn't have 3 columns, YearFounded, Founder, Investor information \n",
    "\n",
    "\n",
    "4. 2019 dataset investors are undisclosed\n",
    "\n",
    "\n",
    "5. Location in 2018 is similar to HeadQuater in 2019-2021\n",
    "\n",
    "\n",
    "6. Add date column to the  dataset and populate it \n"
   ]
  },
  {
   "cell_type": "code",
   "execution_count": 9,
   "id": "dc79a3d9",
   "metadata": {},
   "outputs": [
    {
     "data": {
      "text/html": [
       "<div>\n",
       "<style scoped>\n",
       "    .dataframe tbody tr th:only-of-type {\n",
       "        vertical-align: middle;\n",
       "    }\n",
       "\n",
       "    .dataframe tbody tr th {\n",
       "        vertical-align: top;\n",
       "    }\n",
       "\n",
       "    .dataframe thead th {\n",
       "        text-align: right;\n",
       "    }\n",
       "</style>\n",
       "<table border=\"1\" class=\"dataframe\">\n",
       "  <thead>\n",
       "    <tr style=\"text-align: right;\">\n",
       "      <th></th>\n",
       "      <th>2019_column</th>\n",
       "      <th>2018_columns</th>\n",
       "      <th>2020_columns</th>\n",
       "      <th>2021_columns</th>\n",
       "    </tr>\n",
       "  </thead>\n",
       "  <tbody>\n",
       "    <tr>\n",
       "      <th>0</th>\n",
       "      <td>Company/Brand</td>\n",
       "      <td>Company Name</td>\n",
       "      <td>Company/Brand</td>\n",
       "      <td>Company/Brand</td>\n",
       "    </tr>\n",
       "    <tr>\n",
       "      <th>1</th>\n",
       "      <td>Founded</td>\n",
       "      <td>Industry</td>\n",
       "      <td>Founded</td>\n",
       "      <td>Founded</td>\n",
       "    </tr>\n",
       "    <tr>\n",
       "      <th>2</th>\n",
       "      <td>HeadQuarter</td>\n",
       "      <td>Round/Series</td>\n",
       "      <td>HeadQuarter</td>\n",
       "      <td>HeadQuarter</td>\n",
       "    </tr>\n",
       "    <tr>\n",
       "      <th>3</th>\n",
       "      <td>Sector</td>\n",
       "      <td>Amount</td>\n",
       "      <td>Sector</td>\n",
       "      <td>Sector</td>\n",
       "    </tr>\n",
       "    <tr>\n",
       "      <th>4</th>\n",
       "      <td>What it does</td>\n",
       "      <td>Location</td>\n",
       "      <td>What it does</td>\n",
       "      <td>What it does</td>\n",
       "    </tr>\n",
       "    <tr>\n",
       "      <th>5</th>\n",
       "      <td>Founders</td>\n",
       "      <td>About Company</td>\n",
       "      <td>Founders</td>\n",
       "      <td>Founders</td>\n",
       "    </tr>\n",
       "    <tr>\n",
       "      <th>6</th>\n",
       "      <td>Investor</td>\n",
       "      <td>NaN</td>\n",
       "      <td>Investor</td>\n",
       "      <td>Investor</td>\n",
       "    </tr>\n",
       "    <tr>\n",
       "      <th>7</th>\n",
       "      <td>Amount($)</td>\n",
       "      <td>NaN</td>\n",
       "      <td>Amount($)</td>\n",
       "      <td>Amount($)</td>\n",
       "    </tr>\n",
       "    <tr>\n",
       "      <th>8</th>\n",
       "      <td>Stage</td>\n",
       "      <td>NaN</td>\n",
       "      <td>Stage</td>\n",
       "      <td>Stage</td>\n",
       "    </tr>\n",
       "  </tbody>\n",
       "</table>\n",
       "</div>"
      ],
      "text/plain": [
       "     2019_column   2018_columns   2020_columns   2021_columns\n",
       "0  Company/Brand   Company Name  Company/Brand  Company/Brand\n",
       "1        Founded       Industry        Founded        Founded\n",
       "2    HeadQuarter   Round/Series    HeadQuarter    HeadQuarter\n",
       "3         Sector         Amount         Sector         Sector\n",
       "4   What it does       Location   What it does   What it does\n",
       "5       Founders  About Company       Founders       Founders\n",
       "6       Investor            NaN       Investor       Investor\n",
       "7      Amount($)            NaN      Amount($)      Amount($)\n",
       "8          Stage            NaN          Stage          Stage"
      ]
     },
     "execution_count": 9,
     "metadata": {},
     "output_type": "execute_result"
    }
   ],
   "source": [
    "new"
   ]
  },
  {
   "cell_type": "code",
   "execution_count": 10,
   "id": "3d12446b",
   "metadata": {},
   "outputs": [
    {
     "data": {
      "text/html": [
       "<div>\n",
       "<style scoped>\n",
       "    .dataframe tbody tr th:only-of-type {\n",
       "        vertical-align: middle;\n",
       "    }\n",
       "\n",
       "    .dataframe tbody tr th {\n",
       "        vertical-align: top;\n",
       "    }\n",
       "\n",
       "    .dataframe thead th {\n",
       "        text-align: right;\n",
       "    }\n",
       "</style>\n",
       "<table border=\"1\" class=\"dataframe\">\n",
       "  <thead>\n",
       "    <tr style=\"text-align: right;\">\n",
       "      <th></th>\n",
       "      <th>Company/Brand</th>\n",
       "      <th>Sector</th>\n",
       "      <th>Stage</th>\n",
       "      <th>Amount($)</th>\n",
       "      <th>HeadQuarter</th>\n",
       "      <th>What it does</th>\n",
       "    </tr>\n",
       "  </thead>\n",
       "  <tbody>\n",
       "  </tbody>\n",
       "</table>\n",
       "</div>"
      ],
      "text/plain": [
       "Empty DataFrame\n",
       "Columns: [Company/Brand, Sector, Stage, Amount($), HeadQuarter, What it does]\n",
       "Index: []"
      ]
     },
     "execution_count": 10,
     "metadata": {},
     "output_type": "execute_result"
    }
   ],
   "source": [
    "# RENAME COLUMN 2018\n",
    "\n",
    "columns_2018 = funding_2018.rename( columns = \n",
    "                          {'Company Name':'Company/Brand',\n",
    "                           'Industry': 'Sector', \n",
    "                           'Round/Series': 'Stage',\n",
    "                           'Amount' :'Amount($)',\n",
    "                           'Location':'HeadQuarter',\n",
    "                           'About Company' : 'What it does'})\n",
    "\n",
    "columns_2018.head(0\n",
    "                 )"
   ]
  },
  {
   "cell_type": "code",
   "execution_count": 11,
   "id": "d89c1b29",
   "metadata": {},
   "outputs": [],
   "source": [
    "# Dataset \n",
    "# 1.columns_2018\n",
    "# 2. funding_2019\n",
    "# 3. funding_2020\n",
    "# 4. funding_2021"
   ]
  },
  {
   "cell_type": "code",
   "execution_count": 12,
   "id": "b470c5ed",
   "metadata": {},
   "outputs": [
    {
     "name": "stdout",
     "output_type": "stream",
     "text": [
      "(526, 6)\n",
      "(89, 9)\n",
      "(1055, 10)\n",
      "(1209, 9)\n"
     ]
    }
   ],
   "source": [
    "print(columns_2018.shape)\n",
    "print(funding_2019.shape)\n",
    "print(funding_2020.shape)\n",
    "print(funding_2021.shape)"
   ]
  },
  {
   "cell_type": "code",
   "execution_count": 13,
   "id": "ab7ecced",
   "metadata": {},
   "outputs": [],
   "source": [
    "columns_2018['Year'] = ['2018']*526\n",
    "funding_2019['Year'] = ['2019']*89\n",
    "funding_2020['Year'] = ['2020']*1055\n",
    "funding_2021['Year'] = ['2021']*1209"
   ]
  },
  {
   "cell_type": "code",
   "execution_count": 14,
   "id": "47e6b104",
   "metadata": {},
   "outputs": [
    {
     "name": "stdout",
     "output_type": "stream",
     "text": [
      "2018 Empty DataFrame\n",
      "Columns: [Company/Brand, Sector, Stage, Amount($), HeadQuarter, What it does, Year]\n",
      "Index: []\n",
      "2019 Empty DataFrame\n",
      "Columns: [Company/Brand, Founded, HeadQuarter, Sector, What it does, Founders, Investor, Amount($), Stage, Year]\n",
      "Index: []\n",
      "2020 Empty DataFrame\n",
      "Columns: [Company/Brand, Founded, HeadQuarter, Sector, What it does, Founders, Investor, Amount($), Stage, Unnamed: 9, Year]\n",
      "Index: []\n",
      "2021 Empty DataFrame\n",
      "Columns: [Company/Brand, Founded, HeadQuarter, Sector, What it does, Founders, Investor, Amount($), Stage, Year]\n",
      "Index: []\n"
     ]
    }
   ],
   "source": [
    "# Look at the datasets with date column added \n",
    "print( '2018', columns_2018.head(0))\n",
    "print('2019' , funding_2019.head(0))\n",
    "print( '2020' , funding_2020.head(0))\n",
    "print('2021' , funding_2021.head(0))"
   ]
  },
  {
   "cell_type": "code",
   "execution_count": 15,
   "id": "00350441",
   "metadata": {},
   "outputs": [
    {
     "data": {
      "text/plain": [
       "1053"
      ]
     },
     "execution_count": 15,
     "metadata": {},
     "output_type": "execute_result"
    }
   ],
   "source": [
    "# Check the contents of column \"Unnamed: 9 \" in 2020 dataset \n",
    "\n",
    "funding_2020['Unnamed: 9'].isna().sum()\n",
    "\n",
    "#funding_2020.info()"
   ]
  },
  {
   "cell_type": "markdown",
   "id": "cfb05ede",
   "metadata": {},
   "source": [
    "It has many null values , and it is not in itself useful in our analysis so we drop it."
   ]
  },
  {
   "cell_type": "code",
   "execution_count": 16,
   "id": "7211cd24",
   "metadata": {},
   "outputs": [],
   "source": [
    "# In the 2020 dataset drop the Unnamed: 9 column since only 2 values are not null \n",
    "\n",
    "columns_2020 = funding_2020.drop('Unnamed: 9', axis = 1)"
   ]
  },
  {
   "cell_type": "code",
   "execution_count": 17,
   "id": "52ff4c08",
   "metadata": {},
   "outputs": [
    {
     "data": {
      "text/html": [
       "<div>\n",
       "<style scoped>\n",
       "    .dataframe tbody tr th:only-of-type {\n",
       "        vertical-align: middle;\n",
       "    }\n",
       "\n",
       "    .dataframe tbody tr th {\n",
       "        vertical-align: top;\n",
       "    }\n",
       "\n",
       "    .dataframe thead th {\n",
       "        text-align: right;\n",
       "    }\n",
       "</style>\n",
       "<table border=\"1\" class=\"dataframe\">\n",
       "  <thead>\n",
       "    <tr style=\"text-align: right;\">\n",
       "      <th></th>\n",
       "      <th>Company/Brand</th>\n",
       "      <th>Founded</th>\n",
       "      <th>HeadQuarter</th>\n",
       "      <th>Sector</th>\n",
       "      <th>What it does</th>\n",
       "      <th>Founders</th>\n",
       "      <th>Investor</th>\n",
       "      <th>Amount($)</th>\n",
       "      <th>Stage</th>\n",
       "      <th>Year</th>\n",
       "    </tr>\n",
       "  </thead>\n",
       "  <tbody>\n",
       "  </tbody>\n",
       "</table>\n",
       "</div>"
      ],
      "text/plain": [
       "Empty DataFrame\n",
       "Columns: [Company/Brand, Founded, HeadQuarter, Sector, What it does, Founders, Investor, Amount($), Stage, Year]\n",
       "Index: []"
      ]
     },
     "execution_count": 17,
     "metadata": {},
     "output_type": "execute_result"
    }
   ],
   "source": [
    "columns_2020.head(0)"
   ]
  },
  {
   "cell_type": "code",
   "execution_count": 18,
   "id": "52185ca0",
   "metadata": {},
   "outputs": [
    {
     "data": {
      "text/html": [
       "<div>\n",
       "<style scoped>\n",
       "    .dataframe tbody tr th:only-of-type {\n",
       "        vertical-align: middle;\n",
       "    }\n",
       "\n",
       "    .dataframe tbody tr th {\n",
       "        vertical-align: top;\n",
       "    }\n",
       "\n",
       "    .dataframe thead th {\n",
       "        text-align: right;\n",
       "    }\n",
       "</style>\n",
       "<table border=\"1\" class=\"dataframe\">\n",
       "  <thead>\n",
       "    <tr style=\"text-align: right;\">\n",
       "      <th></th>\n",
       "      <th>Company/Brand</th>\n",
       "      <th>Sector</th>\n",
       "      <th>Stage</th>\n",
       "      <th>Amount($)</th>\n",
       "      <th>HeadQuarter</th>\n",
       "      <th>What it does</th>\n",
       "      <th>Year</th>\n",
       "    </tr>\n",
       "  </thead>\n",
       "  <tbody>\n",
       "    <tr>\n",
       "      <th>0</th>\n",
       "      <td>TheCollegeFever</td>\n",
       "      <td>Brand Marketing, Event Promotion, Marketing, S...</td>\n",
       "      <td>Seed</td>\n",
       "      <td>250000</td>\n",
       "      <td>Bangalore, Karnataka, India</td>\n",
       "      <td>TheCollegeFever is a hub for fun, fiesta and f...</td>\n",
       "      <td>2018</td>\n",
       "    </tr>\n",
       "    <tr>\n",
       "      <th>1</th>\n",
       "      <td>Happy Cow Dairy</td>\n",
       "      <td>Agriculture, Farming</td>\n",
       "      <td>Seed</td>\n",
       "      <td>₹40,000,000</td>\n",
       "      <td>Mumbai, Maharashtra, India</td>\n",
       "      <td>A startup which aggregates milk from dairy far...</td>\n",
       "      <td>2018</td>\n",
       "    </tr>\n",
       "    <tr>\n",
       "      <th>2</th>\n",
       "      <td>MyLoanCare</td>\n",
       "      <td>Credit, Financial Services, Lending, Marketplace</td>\n",
       "      <td>Series A</td>\n",
       "      <td>₹65,000,000</td>\n",
       "      <td>Gurgaon, Haryana, India</td>\n",
       "      <td>Leading Online Loans Marketplace in India</td>\n",
       "      <td>2018</td>\n",
       "    </tr>\n",
       "  </tbody>\n",
       "</table>\n",
       "</div>"
      ],
      "text/plain": [
       "     Company/Brand                                             Sector  \\\n",
       "0  TheCollegeFever  Brand Marketing, Event Promotion, Marketing, S...   \n",
       "1  Happy Cow Dairy                               Agriculture, Farming   \n",
       "2       MyLoanCare   Credit, Financial Services, Lending, Marketplace   \n",
       "\n",
       "      Stage    Amount($)                  HeadQuarter  \\\n",
       "0      Seed       250000  Bangalore, Karnataka, India   \n",
       "1      Seed  ₹40,000,000   Mumbai, Maharashtra, India   \n",
       "2  Series A  ₹65,000,000      Gurgaon, Haryana, India   \n",
       "\n",
       "                                        What it does  Year  \n",
       "0  TheCollegeFever is a hub for fun, fiesta and f...  2018  \n",
       "1  A startup which aggregates milk from dairy far...  2018  \n",
       "2          Leading Online Loans Marketplace in India  2018  "
      ]
     },
     "execution_count": 18,
     "metadata": {},
     "output_type": "execute_result"
    }
   ],
   "source": [
    "# For the original 2018 dataset , remove the non-digits characters and multiply the digit characters with dollar equivalent \n",
    "\n",
    "columns_2018.head(3)"
   ]
  },
  {
   "cell_type": "code",
   "execution_count": 19,
   "id": "994b916d",
   "metadata": {},
   "outputs": [],
   "source": [
    "#columns2_2018 = combined_data2.apply(lambda x: x.str.replace('₹',''))\n",
    "\n",
    "columns_2018_2 = columns_2018[columns_2018['Amount($)'].apply(lambda x: str(x).isdigit())]"
   ]
  },
  {
   "cell_type": "code",
   "execution_count": 20,
   "id": "484dd586",
   "metadata": {},
   "outputs": [
    {
     "data": {
      "text/plain": [
       "array(['250000', '2000000', '1600000', '150000', '1100000', '6000000',\n",
       "       '650000', '1000000', '5000000', '4000000', '2800000', '1700000',\n",
       "       '1300000', '500000', '13400000', '9000000', '100000', '20000',\n",
       "       '120000', '1400000', '1200000', '2200000', '1800000', '3600000',\n",
       "       '300000', '6830000', '200000', '4300000', '364846', '400000',\n",
       "       '1500000', '13200000', '50000', '3000000', '1250000', '180000',\n",
       "       '4200000', '175000', '1450000', '4500000', '600000', '15000000',\n",
       "       '125000', '130000', '17200000', '3500000', '12000000', '22000000',\n",
       "       '70000', '10000000', '185000000', '65000000', '700000', '30000000',\n",
       "       '210000000', '75000000', '1760000', '2700000', '750000', '2500000',\n",
       "       '80000000', '25000000', '3700000', '5600000', '99230000',\n",
       "       '70000000', '40000', '550000', '50000000', '365000000', '28000000',\n",
       "       '100000000', '14900000', '225000000', '7500', '35000000'],\n",
       "      dtype=object)"
      ]
     },
     "execution_count": 20,
     "metadata": {},
     "output_type": "execute_result"
    }
   ],
   "source": [
    "columns_2018_2['Amount($)'].unique()"
   ]
  },
  {
   "cell_type": "code",
   "execution_count": 21,
   "id": "8da88c19",
   "metadata": {},
   "outputs": [
    {
     "data": {
      "text/plain": [
       "0     250000\n",
       "3    2000000\n",
       "Name: Amount($), dtype: object"
      ]
     },
     "execution_count": 21,
     "metadata": {},
     "output_type": "execute_result"
    }
   ],
   "source": [
    "columns_2018_2['Amount($)'].head(2)"
   ]
  },
  {
   "cell_type": "code",
   "execution_count": 22,
   "id": "d38160df",
   "metadata": {},
   "outputs": [
    {
     "data": {
      "text/plain": [
       "dtype('O')"
      ]
     },
     "execution_count": 22,
     "metadata": {},
     "output_type": "execute_result"
    }
   ],
   "source": [
    "columns_2018_2['Amount($)'].dtype"
   ]
  },
  {
   "cell_type": "code",
   "execution_count": 23,
   "id": "fd1816b4",
   "metadata": {},
   "outputs": [],
   "source": [
    "columns_2018_2['Amount($)'] = columns_2018_2['Amount($)'].astype('int64')"
   ]
  },
  {
   "cell_type": "code",
   "execution_count": 24,
   "id": "8697d167",
   "metadata": {},
   "outputs": [
    {
     "data": {
      "text/plain": [
       "dtype('int64')"
      ]
     },
     "execution_count": 24,
     "metadata": {},
     "output_type": "execute_result"
    }
   ],
   "source": [
    "columns_2018_2['Amount($)'].dtype"
   ]
  },
  {
   "cell_type": "code",
   "execution_count": 25,
   "id": "bc5f1ee2",
   "metadata": {},
   "outputs": [],
   "source": [
    " columns_2018_2['Amount($)'] = columns_2018_2['Amount($)'].apply(lambda x: x/68.41)"
   ]
  },
  {
   "cell_type": "markdown",
   "id": "5febd731",
   "metadata": {},
   "source": [
    "The above code runs in the dataset and fetches only digits datatypes, \n",
    "\n"
   ]
  },
  {
   "cell_type": "code",
   "execution_count": 26,
   "id": "a001376f",
   "metadata": {},
   "outputs": [
    {
     "data": {
      "text/html": [
       "<div>\n",
       "<style scoped>\n",
       "    .dataframe tbody tr th:only-of-type {\n",
       "        vertical-align: middle;\n",
       "    }\n",
       "\n",
       "    .dataframe tbody tr th {\n",
       "        vertical-align: top;\n",
       "    }\n",
       "\n",
       "    .dataframe thead th {\n",
       "        text-align: right;\n",
       "    }\n",
       "</style>\n",
       "<table border=\"1\" class=\"dataframe\">\n",
       "  <thead>\n",
       "    <tr style=\"text-align: right;\">\n",
       "      <th></th>\n",
       "      <th>Company/Brand</th>\n",
       "      <th>Sector</th>\n",
       "      <th>Stage</th>\n",
       "      <th>Amount($)</th>\n",
       "      <th>HeadQuarter</th>\n",
       "      <th>What it does</th>\n",
       "      <th>Year</th>\n",
       "    </tr>\n",
       "  </thead>\n",
       "  <tbody>\n",
       "    <tr>\n",
       "      <th>0</th>\n",
       "      <td>TheCollegeFever</td>\n",
       "      <td>Brand Marketing, Event Promotion, Marketing, S...</td>\n",
       "      <td>Seed</td>\n",
       "      <td>3654.436486</td>\n",
       "      <td>Bangalore, Karnataka, India</td>\n",
       "      <td>TheCollegeFever is a hub for fun, fiesta and f...</td>\n",
       "      <td>2018</td>\n",
       "    </tr>\n",
       "    <tr>\n",
       "      <th>3</th>\n",
       "      <td>PayMe India</td>\n",
       "      <td>Financial Services, FinTech</td>\n",
       "      <td>Angel</td>\n",
       "      <td>29235.491887</td>\n",
       "      <td>Noida, Uttar Pradesh, India</td>\n",
       "      <td>PayMe India is an innovative FinTech organizat...</td>\n",
       "      <td>2018</td>\n",
       "    </tr>\n",
       "    <tr>\n",
       "      <th>5</th>\n",
       "      <td>Hasura</td>\n",
       "      <td>Cloud Infrastructure, PaaS, SaaS</td>\n",
       "      <td>Seed</td>\n",
       "      <td>23388.393510</td>\n",
       "      <td>Bengaluru, Karnataka, India</td>\n",
       "      <td>Hasura is a platform that allows developers to...</td>\n",
       "      <td>2018</td>\n",
       "    </tr>\n",
       "    <tr>\n",
       "      <th>16</th>\n",
       "      <td>Mihuru</td>\n",
       "      <td>Finance, Internet, Travel</td>\n",
       "      <td>Seed</td>\n",
       "      <td>2192.661892</td>\n",
       "      <td>Mumbai, Maharashtra, India</td>\n",
       "      <td>Mihuru is an online platform which gives micro...</td>\n",
       "      <td>2018</td>\n",
       "    </tr>\n",
       "    <tr>\n",
       "      <th>17</th>\n",
       "      <td>Fyle</td>\n",
       "      <td>Accounting, Business Information Systems, Busi...</td>\n",
       "      <td>Seed</td>\n",
       "      <td>16079.520538</td>\n",
       "      <td>Bengaluru, Karnataka, India</td>\n",
       "      <td>Fyle is an intelligent expense management plat...</td>\n",
       "      <td>2018</td>\n",
       "    </tr>\n",
       "  </tbody>\n",
       "</table>\n",
       "</div>"
      ],
      "text/plain": [
       "      Company/Brand                                             Sector  Stage  \\\n",
       "0   TheCollegeFever  Brand Marketing, Event Promotion, Marketing, S...   Seed   \n",
       "3       PayMe India                        Financial Services, FinTech  Angel   \n",
       "5            Hasura                   Cloud Infrastructure, PaaS, SaaS   Seed   \n",
       "16           Mihuru                          Finance, Internet, Travel   Seed   \n",
       "17             Fyle  Accounting, Business Information Systems, Busi...   Seed   \n",
       "\n",
       "       Amount($)                  HeadQuarter  \\\n",
       "0    3654.436486  Bangalore, Karnataka, India   \n",
       "3   29235.491887  Noida, Uttar Pradesh, India   \n",
       "5   23388.393510  Bengaluru, Karnataka, India   \n",
       "16   2192.661892   Mumbai, Maharashtra, India   \n",
       "17  16079.520538  Bengaluru, Karnataka, India   \n",
       "\n",
       "                                         What it does  Year  \n",
       "0   TheCollegeFever is a hub for fun, fiesta and f...  2018  \n",
       "3   PayMe India is an innovative FinTech organizat...  2018  \n",
       "5   Hasura is a platform that allows developers to...  2018  \n",
       "16  Mihuru is an online platform which gives micro...  2018  \n",
       "17  Fyle is an intelligent expense management plat...  2018  "
      ]
     },
     "execution_count": 26,
     "metadata": {},
     "output_type": "execute_result"
    }
   ],
   "source": [
    "columns_2018_2.head()"
   ]
  },
  {
   "cell_type": "markdown",
   "id": "e52389fe",
   "metadata": {},
   "source": [
    "Datasets to now work on \n",
    " 1. columns_2018_2\n",
    " 2. funding_2019\n",
    " 3. columns_2020\n",
    " 4. funding_2021"
   ]
  },
  {
   "cell_type": "code",
   "execution_count": 27,
   "id": "b45884fb",
   "metadata": {},
   "outputs": [],
   "source": [
    "# combining our datasets \n",
    "\n",
    "combined_data = pd.concat([columns_2018_2 , funding_2019,columns_2020, funding_2021], ignore_index = True)"
   ]
  },
  {
   "cell_type": "code",
   "execution_count": 28,
   "id": "a0738c99",
   "metadata": {},
   "outputs": [
    {
     "data": {
      "text/html": [
       "<div>\n",
       "<style scoped>\n",
       "    .dataframe tbody tr th:only-of-type {\n",
       "        vertical-align: middle;\n",
       "    }\n",
       "\n",
       "    .dataframe tbody tr th {\n",
       "        vertical-align: top;\n",
       "    }\n",
       "\n",
       "    .dataframe thead th {\n",
       "        text-align: right;\n",
       "    }\n",
       "</style>\n",
       "<table border=\"1\" class=\"dataframe\">\n",
       "  <thead>\n",
       "    <tr style=\"text-align: right;\">\n",
       "      <th></th>\n",
       "      <th>Company/Brand</th>\n",
       "      <th>Sector</th>\n",
       "      <th>Stage</th>\n",
       "      <th>Amount($)</th>\n",
       "      <th>HeadQuarter</th>\n",
       "      <th>What it does</th>\n",
       "      <th>Year</th>\n",
       "      <th>Founded</th>\n",
       "      <th>Founders</th>\n",
       "      <th>Investor</th>\n",
       "    </tr>\n",
       "  </thead>\n",
       "  <tbody>\n",
       "    <tr>\n",
       "      <th>0</th>\n",
       "      <td>TheCollegeFever</td>\n",
       "      <td>Brand Marketing, Event Promotion, Marketing, S...</td>\n",
       "      <td>Seed</td>\n",
       "      <td>3654.436486</td>\n",
       "      <td>Bangalore, Karnataka, India</td>\n",
       "      <td>TheCollegeFever is a hub for fun, fiesta and f...</td>\n",
       "      <td>2018</td>\n",
       "      <td>NaN</td>\n",
       "      <td>NaN</td>\n",
       "      <td>NaN</td>\n",
       "    </tr>\n",
       "    <tr>\n",
       "      <th>1</th>\n",
       "      <td>PayMe India</td>\n",
       "      <td>Financial Services, FinTech</td>\n",
       "      <td>Angel</td>\n",
       "      <td>29235.491887</td>\n",
       "      <td>Noida, Uttar Pradesh, India</td>\n",
       "      <td>PayMe India is an innovative FinTech organizat...</td>\n",
       "      <td>2018</td>\n",
       "      <td>NaN</td>\n",
       "      <td>NaN</td>\n",
       "      <td>NaN</td>\n",
       "    </tr>\n",
       "    <tr>\n",
       "      <th>2</th>\n",
       "      <td>Hasura</td>\n",
       "      <td>Cloud Infrastructure, PaaS, SaaS</td>\n",
       "      <td>Seed</td>\n",
       "      <td>23388.39351</td>\n",
       "      <td>Bengaluru, Karnataka, India</td>\n",
       "      <td>Hasura is a platform that allows developers to...</td>\n",
       "      <td>2018</td>\n",
       "      <td>NaN</td>\n",
       "      <td>NaN</td>\n",
       "      <td>NaN</td>\n",
       "    </tr>\n",
       "    <tr>\n",
       "      <th>3</th>\n",
       "      <td>Mihuru</td>\n",
       "      <td>Finance, Internet, Travel</td>\n",
       "      <td>Seed</td>\n",
       "      <td>2192.661892</td>\n",
       "      <td>Mumbai, Maharashtra, India</td>\n",
       "      <td>Mihuru is an online platform which gives micro...</td>\n",
       "      <td>2018</td>\n",
       "      <td>NaN</td>\n",
       "      <td>NaN</td>\n",
       "      <td>NaN</td>\n",
       "    </tr>\n",
       "    <tr>\n",
       "      <th>4</th>\n",
       "      <td>Fyle</td>\n",
       "      <td>Accounting, Business Information Systems, Busi...</td>\n",
       "      <td>Seed</td>\n",
       "      <td>16079.520538</td>\n",
       "      <td>Bengaluru, Karnataka, India</td>\n",
       "      <td>Fyle is an intelligent expense management plat...</td>\n",
       "      <td>2018</td>\n",
       "      <td>NaN</td>\n",
       "      <td>NaN</td>\n",
       "      <td>NaN</td>\n",
       "    </tr>\n",
       "  </tbody>\n",
       "</table>\n",
       "</div>"
      ],
      "text/plain": [
       "     Company/Brand                                             Sector  Stage  \\\n",
       "0  TheCollegeFever  Brand Marketing, Event Promotion, Marketing, S...   Seed   \n",
       "1      PayMe India                        Financial Services, FinTech  Angel   \n",
       "2           Hasura                   Cloud Infrastructure, PaaS, SaaS   Seed   \n",
       "3           Mihuru                          Finance, Internet, Travel   Seed   \n",
       "4             Fyle  Accounting, Business Information Systems, Busi...   Seed   \n",
       "\n",
       "      Amount($)                  HeadQuarter  \\\n",
       "0   3654.436486  Bangalore, Karnataka, India   \n",
       "1  29235.491887  Noida, Uttar Pradesh, India   \n",
       "2   23388.39351  Bengaluru, Karnataka, India   \n",
       "3   2192.661892   Mumbai, Maharashtra, India   \n",
       "4  16079.520538  Bengaluru, Karnataka, India   \n",
       "\n",
       "                                        What it does  Year Founded Founders  \\\n",
       "0  TheCollegeFever is a hub for fun, fiesta and f...  2018     NaN      NaN   \n",
       "1  PayMe India is an innovative FinTech organizat...  2018     NaN      NaN   \n",
       "2  Hasura is a platform that allows developers to...  2018     NaN      NaN   \n",
       "3  Mihuru is an online platform which gives micro...  2018     NaN      NaN   \n",
       "4  Fyle is an intelligent expense management plat...  2018     NaN      NaN   \n",
       "\n",
       "  Investor  \n",
       "0      NaN  \n",
       "1      NaN  \n",
       "2      NaN  \n",
       "3      NaN  \n",
       "4      NaN  "
      ]
     },
     "execution_count": 28,
     "metadata": {},
     "output_type": "execute_result"
    }
   ],
   "source": [
    "combined_data.head(5)"
   ]
  },
  {
   "cell_type": "code",
   "execution_count": 29,
   "id": "07966576",
   "metadata": {},
   "outputs": [
    {
     "data": {
      "text/plain": [
       "(2528, 10)"
      ]
     },
     "execution_count": 29,
     "metadata": {},
     "output_type": "execute_result"
    }
   ],
   "source": [
    "combined_data.shape"
   ]
  },
  {
   "cell_type": "code",
   "execution_count": 30,
   "id": "8744541d",
   "metadata": {},
   "outputs": [
    {
     "name": "stdout",
     "output_type": "stream",
     "text": [
      "<class 'pandas.core.frame.DataFrame'>\n",
      "RangeIndex: 2528 entries, 0 to 2527\n",
      "Data columns (total 10 columns):\n",
      " #   Column         Non-Null Count  Dtype \n",
      "---  ------         --------------  ----- \n",
      " 0   Company/Brand  2528 non-null   object\n",
      " 1   Sector         2510 non-null   object\n",
      " 2   Stage          1590 non-null   object\n",
      " 3   Amount($)      2522 non-null   object\n",
      " 4   HeadQuarter    2414 non-null   object\n",
      " 5   What it does   2528 non-null   object\n",
      " 6   Year           2528 non-null   object\n",
      " 7   Founded        2111 non-null   object\n",
      " 8   Founders       2334 non-null   object\n",
      " 9   Investor       2253 non-null   object\n",
      "dtypes: object(10)\n",
      "memory usage: 197.6+ KB\n"
     ]
    }
   ],
   "source": [
    "combined_data.info()"
   ]
  },
  {
   "cell_type": "code",
   "execution_count": 31,
   "id": "001395ee",
   "metadata": {},
   "outputs": [
    {
     "data": {
      "text/plain": [
       "(2528, 10)"
      ]
     },
     "execution_count": 31,
     "metadata": {},
     "output_type": "execute_result"
    }
   ],
   "source": [
    "combined_data.shape"
   ]
  },
  {
   "cell_type": "markdown",
   "id": "a853634b",
   "metadata": {},
   "source": [
    "\n",
    "\n",
    "# UNIVARIATE ANALYSIS \n",
    "\n"
   ]
  },
  {
   "cell_type": "code",
   "execution_count": 32,
   "id": "167ebd16",
   "metadata": {},
   "outputs": [
    {
     "name": "stdout",
     "output_type": "stream",
     "text": [
      "<class 'pandas.core.frame.DataFrame'>\n",
      "RangeIndex: 2528 entries, 0 to 2527\n",
      "Data columns (total 10 columns):\n",
      " #   Column         Non-Null Count  Dtype \n",
      "---  ------         --------------  ----- \n",
      " 0   Company/Brand  2528 non-null   object\n",
      " 1   Sector         2510 non-null   object\n",
      " 2   Stage          1590 non-null   object\n",
      " 3   Amount($)      2522 non-null   object\n",
      " 4   HeadQuarter    2414 non-null   object\n",
      " 5   What it does   2528 non-null   object\n",
      " 6   Year           2528 non-null   object\n",
      " 7   Founded        2111 non-null   object\n",
      " 8   Founders       2334 non-null   object\n",
      " 9   Investor       2253 non-null   object\n",
      "dtypes: object(10)\n",
      "memory usage: 197.6+ KB\n"
     ]
    }
   ],
   "source": [
    "combined_data.info()"
   ]
  },
  {
   "cell_type": "markdown",
   "id": "3e60ecd8",
   "metadata": {},
   "source": [
    "## DEEP DIVE COMPANY/BRAND "
   ]
  },
  {
   "cell_type": "code",
   "execution_count": 33,
   "id": "f3afc69b",
   "metadata": {},
   "outputs": [],
   "source": [
    "#with pd.option_context('display.max_rows', None, ):\n",
    "    #print(combined_data['Company/Brand'])"
   ]
  },
  {
   "cell_type": "code",
   "execution_count": 34,
   "id": "9683fbe0",
   "metadata": {},
   "outputs": [
    {
     "data": {
      "text/plain": [
       "dtype('O')"
      ]
     },
     "execution_count": 34,
     "metadata": {},
     "output_type": "execute_result"
    }
   ],
   "source": [
    "#Check the dtype , \n",
    "combined_data['Company/Brand'].dtype"
   ]
  },
  {
   "cell_type": "code",
   "execution_count": 35,
   "id": "66672ee9",
   "metadata": {},
   "outputs": [
    {
     "data": {
      "text/plain": [
       "BharatPe    10\n",
       "Zomato       7\n",
       "Zetwerk      6\n",
       "MPL          6\n",
       "Trell        6\n",
       "Name: Company/Brand, dtype: int64"
      ]
     },
     "execution_count": 35,
     "metadata": {},
     "output_type": "execute_result"
    }
   ],
   "source": [
    "# use value_counts to find out if the company/brand is groupable ?\n",
    "combined_data['Company/Brand'].value_counts().head(5)"
   ]
  },
  {
   "cell_type": "code",
   "execution_count": 36,
   "id": "12cba46f",
   "metadata": {},
   "outputs": [
    {
     "data": {
      "text/plain": [
       "count         2528\n",
       "unique        1933\n",
       "top       BharatPe\n",
       "freq            10\n",
       "Name: Company/Brand, dtype: object"
      ]
     },
     "execution_count": 36,
     "metadata": {},
     "output_type": "execute_result"
    }
   ],
   "source": [
    "combined_data['Company/Brand'].describe()"
   ]
  },
  {
   "cell_type": "code",
   "execution_count": 37,
   "id": "7964ee8b",
   "metadata": {},
   "outputs": [
    {
     "data": {
      "text/plain": [
       "0"
      ]
     },
     "execution_count": 37,
     "metadata": {},
     "output_type": "execute_result"
    }
   ],
   "source": [
    "combined_data['Company/Brand'].isna().sum()"
   ]
  },
  {
   "cell_type": "markdown",
   "id": "b656702e",
   "metadata": {},
   "source": [
    "**Deductions** \n",
    "There are no missing values in the dataset"
   ]
  },
  {
   "cell_type": "markdown",
   "id": "cd263280",
   "metadata": {},
   "source": [
    "## DEEP DIVE SECTOR "
   ]
  },
  {
   "cell_type": "code",
   "execution_count": 38,
   "id": "53b11fad",
   "metadata": {},
   "outputs": [
    {
     "data": {
      "text/plain": [
       "<bound method Series.unique of FinTech                       173\n",
       "EdTech                        142\n",
       "Fintech                        85\n",
       "Edtech                         74\n",
       "E-commerce                     73\n",
       "                             ... \n",
       "Fusion beverages                1\n",
       "AI platform                     1\n",
       "Conversational AI platform      1\n",
       "Consumer appliances             1\n",
       "Staffing & Recruiting           1\n",
       "Name: Sector, Length: 636, dtype: int64>"
      ]
     },
     "execution_count": 38,
     "metadata": {},
     "output_type": "execute_result"
    }
   ],
   "source": [
    "combined_data['Sector'].value_counts().unique"
   ]
  },
  {
   "cell_type": "code",
   "execution_count": 39,
   "id": "8175aa2f",
   "metadata": {},
   "outputs": [
    {
     "data": {
      "text/plain": [
       "dtype('O')"
      ]
     },
     "execution_count": 39,
     "metadata": {},
     "output_type": "execute_result"
    }
   ],
   "source": [
    "combined_data['Sector'].dtype"
   ]
  },
  {
   "cell_type": "code",
   "execution_count": 40,
   "id": "48af77e9",
   "metadata": {},
   "outputs": [
    {
     "data": {
      "text/plain": [
       "18"
      ]
     },
     "execution_count": 40,
     "metadata": {},
     "output_type": "execute_result"
    }
   ],
   "source": [
    "#check for missing values \n",
    "combined_data['Sector'].isna().sum()"
   ]
  },
  {
   "cell_type": "code",
   "execution_count": 41,
   "id": "402d065c",
   "metadata": {},
   "outputs": [
    {
     "name": "stdout",
     "output_type": "stream",
     "text": [
      "The percentage of missing values is  0.6252170892671066\n"
     ]
    }
   ],
   "source": [
    "print ('The percentage of missing values is ', 18/2879*100)"
   ]
  },
  {
   "cell_type": "code",
   "execution_count": 42,
   "id": "70c741b2",
   "metadata": {},
   "outputs": [],
   "source": [
    "#with pd.option_context('display.max_rows', None,):\n",
    "    #print(combined_data['Sector'])"
   ]
  },
  {
   "cell_type": "markdown",
   "id": "ac615ed7",
   "metadata": {},
   "source": [
    "**Deductions**\n",
    "1. There are 0.6% of missing data , because this is negligible, It shall be dropped "
   ]
  },
  {
   "cell_type": "markdown",
   "id": "8bb62432",
   "metadata": {},
   "source": [
    "## STAGE DEEP DIVE "
   ]
  },
  {
   "cell_type": "code",
   "execution_count": 43,
   "id": "f02163c0",
   "metadata": {},
   "outputs": [
    {
     "data": {
      "text/plain": [
       "count     1590\n",
       "unique      72\n",
       "top       Seed\n",
       "freq       416\n",
       "Name: Stage, dtype: object"
      ]
     },
     "execution_count": 43,
     "metadata": {},
     "output_type": "execute_result"
    }
   ],
   "source": [
    "combined_data['Stage'].describe()"
   ]
  },
  {
   "cell_type": "code",
   "execution_count": 44,
   "id": "ab41160f",
   "metadata": {},
   "outputs": [
    {
     "data": {
      "text/plain": [
       "938"
      ]
     },
     "execution_count": 44,
     "metadata": {},
     "output_type": "execute_result"
    }
   ],
   "source": [
    "combined_data['Stage'].isna().sum()"
   ]
  },
  {
   "cell_type": "code",
   "execution_count": 45,
   "id": "0b49f665",
   "metadata": {},
   "outputs": [
    {
     "data": {
      "text/plain": [
       "(2528, 10)"
      ]
     },
     "execution_count": 45,
     "metadata": {},
     "output_type": "execute_result"
    }
   ],
   "source": [
    "combined_data.shape"
   ]
  },
  {
   "cell_type": "code",
   "execution_count": 46,
   "id": "2d792c4d",
   "metadata": {},
   "outputs": [
    {
     "name": "stdout",
     "output_type": "stream",
     "text": [
      "Percentage of missing values here is  32.58075720736367\n"
     ]
    }
   ],
   "source": [
    "p = 938/2879*100\n",
    "\n",
    "print('Percentage of missing values here is ', p)"
   ]
  },
  {
   "cell_type": "code",
   "execution_count": 47,
   "id": "5de87ca4",
   "metadata": {},
   "outputs": [
    {
     "data": {
      "text/plain": [
       "dtype('O')"
      ]
     },
     "execution_count": 47,
     "metadata": {},
     "output_type": "execute_result"
    }
   ],
   "source": [
    "combined_data['Stage'].dtype"
   ]
  },
  {
   "cell_type": "code",
   "execution_count": 48,
   "id": "3dfef51d",
   "metadata": {},
   "outputs": [
    {
     "data": {
      "text/plain": [
       "Seed            416\n",
       "Series A        273\n",
       "Pre-series A    211\n",
       "Series B        115\n",
       "Series C        106\n",
       "Seed Round       69\n",
       "Pre series A     62\n",
       "Pre-seed         58\n",
       "Series D         48\n",
       "Debt             45\n",
       "Name: Stage, dtype: int64"
      ]
     },
     "execution_count": 48,
     "metadata": {},
     "output_type": "execute_result"
    }
   ],
   "source": [
    "combined_data['Stage'].value_counts().head(10)"
   ]
  },
  {
   "cell_type": "code",
   "execution_count": 49,
   "id": "c2e94c99",
   "metadata": {},
   "outputs": [
    {
     "data": {
      "text/html": [
       "<div>\n",
       "<style scoped>\n",
       "    .dataframe tbody tr th:only-of-type {\n",
       "        vertical-align: middle;\n",
       "    }\n",
       "\n",
       "    .dataframe tbody tr th {\n",
       "        vertical-align: top;\n",
       "    }\n",
       "\n",
       "    .dataframe thead th {\n",
       "        text-align: right;\n",
       "    }\n",
       "</style>\n",
       "<table border=\"1\" class=\"dataframe\">\n",
       "  <thead>\n",
       "    <tr style=\"text-align: right;\">\n",
       "      <th></th>\n",
       "      <th>Company/Brand</th>\n",
       "      <th>Sector</th>\n",
       "      <th>Stage</th>\n",
       "      <th>Amount($)</th>\n",
       "      <th>HeadQuarter</th>\n",
       "      <th>What it does</th>\n",
       "      <th>Year</th>\n",
       "      <th>Founded</th>\n",
       "      <th>Founders</th>\n",
       "      <th>Investor</th>\n",
       "    </tr>\n",
       "  </thead>\n",
       "  <tbody>\n",
       "    <tr>\n",
       "      <th>0</th>\n",
       "      <td>TheCollegeFever</td>\n",
       "      <td>Brand Marketing, Event Promotion, Marketing, S...</td>\n",
       "      <td>Seed</td>\n",
       "      <td>3654.436486</td>\n",
       "      <td>Bangalore, Karnataka, India</td>\n",
       "      <td>TheCollegeFever is a hub for fun, fiesta and f...</td>\n",
       "      <td>2018</td>\n",
       "      <td>NaN</td>\n",
       "      <td>NaN</td>\n",
       "      <td>NaN</td>\n",
       "    </tr>\n",
       "    <tr>\n",
       "      <th>1</th>\n",
       "      <td>PayMe India</td>\n",
       "      <td>Financial Services, FinTech</td>\n",
       "      <td>Angel</td>\n",
       "      <td>29235.491887</td>\n",
       "      <td>Noida, Uttar Pradesh, India</td>\n",
       "      <td>PayMe India is an innovative FinTech organizat...</td>\n",
       "      <td>2018</td>\n",
       "      <td>NaN</td>\n",
       "      <td>NaN</td>\n",
       "      <td>NaN</td>\n",
       "    </tr>\n",
       "    <tr>\n",
       "      <th>2</th>\n",
       "      <td>Hasura</td>\n",
       "      <td>Cloud Infrastructure, PaaS, SaaS</td>\n",
       "      <td>Seed</td>\n",
       "      <td>23388.39351</td>\n",
       "      <td>Bengaluru, Karnataka, India</td>\n",
       "      <td>Hasura is a platform that allows developers to...</td>\n",
       "      <td>2018</td>\n",
       "      <td>NaN</td>\n",
       "      <td>NaN</td>\n",
       "      <td>NaN</td>\n",
       "    </tr>\n",
       "    <tr>\n",
       "      <th>3</th>\n",
       "      <td>Mihuru</td>\n",
       "      <td>Finance, Internet, Travel</td>\n",
       "      <td>Seed</td>\n",
       "      <td>2192.661892</td>\n",
       "      <td>Mumbai, Maharashtra, India</td>\n",
       "      <td>Mihuru is an online platform which gives micro...</td>\n",
       "      <td>2018</td>\n",
       "      <td>NaN</td>\n",
       "      <td>NaN</td>\n",
       "      <td>NaN</td>\n",
       "    </tr>\n",
       "    <tr>\n",
       "      <th>4</th>\n",
       "      <td>Fyle</td>\n",
       "      <td>Accounting, Business Information Systems, Busi...</td>\n",
       "      <td>Seed</td>\n",
       "      <td>16079.520538</td>\n",
       "      <td>Bengaluru, Karnataka, India</td>\n",
       "      <td>Fyle is an intelligent expense management plat...</td>\n",
       "      <td>2018</td>\n",
       "      <td>NaN</td>\n",
       "      <td>NaN</td>\n",
       "      <td>NaN</td>\n",
       "    </tr>\n",
       "    <tr>\n",
       "      <th>...</th>\n",
       "      <td>...</td>\n",
       "      <td>...</td>\n",
       "      <td>...</td>\n",
       "      <td>...</td>\n",
       "      <td>...</td>\n",
       "      <td>...</td>\n",
       "      <td>...</td>\n",
       "      <td>...</td>\n",
       "      <td>...</td>\n",
       "      <td>...</td>\n",
       "    </tr>\n",
       "    <tr>\n",
       "      <th>2523</th>\n",
       "      <td>Gigforce</td>\n",
       "      <td>Staffing &amp; Recruiting</td>\n",
       "      <td>Pre Series A</td>\n",
       "      <td>$3000000</td>\n",
       "      <td>Gurugram</td>\n",
       "      <td>A gig/on-demand staffing company.</td>\n",
       "      <td>2021</td>\n",
       "      <td>2019.0</td>\n",
       "      <td>Chirag Mittal, Anirudh Syal</td>\n",
       "      <td>Endiya Partners</td>\n",
       "    </tr>\n",
       "    <tr>\n",
       "      <th>2524</th>\n",
       "      <td>Vahdam</td>\n",
       "      <td>Food &amp; Beverages</td>\n",
       "      <td>Series D</td>\n",
       "      <td>$20000000</td>\n",
       "      <td>New Delhi</td>\n",
       "      <td>VAHDAM is among the world’s first vertically i...</td>\n",
       "      <td>2021</td>\n",
       "      <td>2015.0</td>\n",
       "      <td>Bala Sarda</td>\n",
       "      <td>IIFL AMC</td>\n",
       "    </tr>\n",
       "    <tr>\n",
       "      <th>2525</th>\n",
       "      <td>Leap Finance</td>\n",
       "      <td>Financial Services</td>\n",
       "      <td>Series C</td>\n",
       "      <td>$55000000</td>\n",
       "      <td>Bangalore</td>\n",
       "      <td>International education loans for high potenti...</td>\n",
       "      <td>2021</td>\n",
       "      <td>2019.0</td>\n",
       "      <td>Arnav Kumar, Vaibhav Singh</td>\n",
       "      <td>Owl Ventures</td>\n",
       "    </tr>\n",
       "    <tr>\n",
       "      <th>2526</th>\n",
       "      <td>CollegeDekho</td>\n",
       "      <td>EdTech</td>\n",
       "      <td>Series B</td>\n",
       "      <td>$26000000</td>\n",
       "      <td>Gurugram</td>\n",
       "      <td>Collegedekho.com is Student’s Partner, Friend ...</td>\n",
       "      <td>2021</td>\n",
       "      <td>2015.0</td>\n",
       "      <td>Ruchir Arora</td>\n",
       "      <td>Winter Capital, ETS, Man Capital</td>\n",
       "    </tr>\n",
       "    <tr>\n",
       "      <th>2527</th>\n",
       "      <td>WeRize</td>\n",
       "      <td>Financial Services</td>\n",
       "      <td>Series A</td>\n",
       "      <td>$8000000</td>\n",
       "      <td>Bangalore</td>\n",
       "      <td>India’s first socially distributed full stack ...</td>\n",
       "      <td>2021</td>\n",
       "      <td>2019.0</td>\n",
       "      <td>Vishal Chopra, Himanshu Gupta</td>\n",
       "      <td>3one4 Capital, Kalaari Capital</td>\n",
       "    </tr>\n",
       "  </tbody>\n",
       "</table>\n",
       "<p>2528 rows × 10 columns</p>\n",
       "</div>"
      ],
      "text/plain": [
       "        Company/Brand                                             Sector  \\\n",
       "0     TheCollegeFever  Brand Marketing, Event Promotion, Marketing, S...   \n",
       "1         PayMe India                        Financial Services, FinTech   \n",
       "2              Hasura                   Cloud Infrastructure, PaaS, SaaS   \n",
       "3              Mihuru                          Finance, Internet, Travel   \n",
       "4                Fyle  Accounting, Business Information Systems, Busi...   \n",
       "...               ...                                                ...   \n",
       "2523         Gigforce                              Staffing & Recruiting   \n",
       "2524           Vahdam                                   Food & Beverages   \n",
       "2525     Leap Finance                                 Financial Services   \n",
       "2526     CollegeDekho                                             EdTech   \n",
       "2527           WeRize                                 Financial Services   \n",
       "\n",
       "             Stage     Amount($)                  HeadQuarter  \\\n",
       "0             Seed   3654.436486  Bangalore, Karnataka, India   \n",
       "1            Angel  29235.491887  Noida, Uttar Pradesh, India   \n",
       "2             Seed   23388.39351  Bengaluru, Karnataka, India   \n",
       "3             Seed   2192.661892   Mumbai, Maharashtra, India   \n",
       "4             Seed  16079.520538  Bengaluru, Karnataka, India   \n",
       "...            ...           ...                          ...   \n",
       "2523  Pre Series A      $3000000                     Gurugram   \n",
       "2524      Series D     $20000000                    New Delhi   \n",
       "2525      Series C     $55000000                    Bangalore   \n",
       "2526      Series B     $26000000                     Gurugram   \n",
       "2527      Series A      $8000000                    Bangalore   \n",
       "\n",
       "                                           What it does  Year Founded  \\\n",
       "0     TheCollegeFever is a hub for fun, fiesta and f...  2018     NaN   \n",
       "1     PayMe India is an innovative FinTech organizat...  2018     NaN   \n",
       "2     Hasura is a platform that allows developers to...  2018     NaN   \n",
       "3     Mihuru is an online platform which gives micro...  2018     NaN   \n",
       "4     Fyle is an intelligent expense management plat...  2018     NaN   \n",
       "...                                                 ...   ...     ...   \n",
       "2523                  A gig/on-demand staffing company.  2021  2019.0   \n",
       "2524  VAHDAM is among the world’s first vertically i...  2021  2015.0   \n",
       "2525  International education loans for high potenti...  2021  2019.0   \n",
       "2526  Collegedekho.com is Student’s Partner, Friend ...  2021  2015.0   \n",
       "2527  India’s first socially distributed full stack ...  2021  2019.0   \n",
       "\n",
       "                           Founders                          Investor  \n",
       "0                               NaN                               NaN  \n",
       "1                               NaN                               NaN  \n",
       "2                               NaN                               NaN  \n",
       "3                               NaN                               NaN  \n",
       "4                               NaN                               NaN  \n",
       "...                             ...                               ...  \n",
       "2523    Chirag Mittal, Anirudh Syal                   Endiya Partners  \n",
       "2524                     Bala Sarda                          IIFL AMC  \n",
       "2525     Arnav Kumar, Vaibhav Singh                      Owl Ventures  \n",
       "2526                   Ruchir Arora  Winter Capital, ETS, Man Capital  \n",
       "2527  Vishal Chopra, Himanshu Gupta    3one4 Capital, Kalaari Capital  \n",
       "\n",
       "[2528 rows x 10 columns]"
      ]
     },
     "execution_count": 49,
     "metadata": {},
     "output_type": "execute_result"
    }
   ],
   "source": [
    "#Renaming the pre series A to be similar \n",
    "\n",
    "combined_data.replace(to_replace = ['Pre-series A', 'Pre series A', ' NaN' ], value = ['Pre Series A', 'Pre Series A', 'undisclosed'])"
   ]
  },
  {
   "cell_type": "code",
   "execution_count": 50,
   "id": "dbbefa88",
   "metadata": {},
   "outputs": [],
   "source": [
    "# Renaming our missing values from NaN to undisclosed \n",
    "\n",
    "combined_data.fillna({'Stage':'undisclosed'}, inplace = True)"
   ]
  },
  {
   "cell_type": "code",
   "execution_count": 51,
   "id": "58018fd3",
   "metadata": {},
   "outputs": [],
   "source": [
    "# See if the null values have been renamed \n",
    "\n",
    "#with pd.option_context('display.max_rows', None,):\n",
    "    #print(combined_data['Stage'])"
   ]
  },
  {
   "cell_type": "markdown",
   "id": "81a7d95f",
   "metadata": {},
   "source": [
    "**Deductions**\n",
    "\n",
    "1. We have 32% of missing data.\n",
    "\n",
    "\n",
    "2. The Pre Series A, has been renamed differently in the the dataset \n",
    "\n",
    "**Solution**\n",
    "\n",
    "1. With the nature of our Question 1, We cannot ignore 32% of missing data here. The stage being crucial to our analysis. We shall therefore rename to undisclosed \n",
    "\n",
    "\n",
    "2. Rename all the pre series A "
   ]
  },
  {
   "cell_type": "markdown",
   "id": "999c7bf7",
   "metadata": {},
   "source": [
    "##  AMOUNT()\tDEEP DIVE"
   ]
  },
  {
   "cell_type": "code",
   "execution_count": 52,
   "id": "576057bb",
   "metadata": {},
   "outputs": [
    {
     "data": {
      "text/plain": [
       "count            2522\n",
       "unique            604\n",
       "top       Undisclosed\n",
       "freq              298\n",
       "Name: Amount($), dtype: object"
      ]
     },
     "execution_count": 52,
     "metadata": {},
     "output_type": "execute_result"
    }
   ],
   "source": [
    "combined_data['Amount($)'].describe()"
   ]
  },
  {
   "cell_type": "code",
   "execution_count": 53,
   "id": "a0a14f6e",
   "metadata": {},
   "outputs": [],
   "source": [
    "#combined_data['Amount($)'].unique()"
   ]
  },
  {
   "cell_type": "code",
   "execution_count": 54,
   "id": "f979f968",
   "metadata": {},
   "outputs": [
    {
     "data": {
      "text/plain": [
       "6"
      ]
     },
     "execution_count": 54,
     "metadata": {},
     "output_type": "execute_result"
    }
   ],
   "source": [
    "combined_data['Amount($)'].isna().sum()"
   ]
  },
  {
   "cell_type": "markdown",
   "id": "9f2aa240",
   "metadata": {},
   "source": [
    "1. Remove rowns with undisclosed \n",
    "\n",
    "\n",
    "2. since the header is indicated to be '$' assumption  is  the  Japanes  Yen ought to be converted to $\n",
    "\n",
    "\n",
    "3. Since we have many outliers , fill in missing values with median \n",
    "\n",
    "\n",
    "4. change the Dtype from O type to int"
   ]
  },
  {
   "cell_type": "code",
   "execution_count": 55,
   "id": "5fb2d45b",
   "metadata": {},
   "outputs": [],
   "source": [
    "# remove $ replace with empty space\n",
    "remove1 = combined_data.apply(lambda x: x.str.replace('$',''))\n",
    "\n",
    "#remove the jy replace with empty space\n",
    "remove2 = remove1.apply(lambda x: x.str.replace('₹',''))\n",
    "\n",
    "#remove the , replace with empty space\n",
    "remove3 = remove2.apply(lambda x: x.str.replace(',',''))"
   ]
  },
  {
   "cell_type": "code",
   "execution_count": 56,
   "id": "d7ac8a3a",
   "metadata": {},
   "outputs": [],
   "source": [
    "new2 = remove3[remove3['Amount($)'].apply(lambda x: str(x).isdigit())]"
   ]
  },
  {
   "cell_type": "code",
   "execution_count": 57,
   "id": "e4bc0147",
   "metadata": {},
   "outputs": [
    {
     "data": {
      "text/html": [
       "<div>\n",
       "<style scoped>\n",
       "    .dataframe tbody tr th:only-of-type {\n",
       "        vertical-align: middle;\n",
       "    }\n",
       "\n",
       "    .dataframe tbody tr th {\n",
       "        vertical-align: top;\n",
       "    }\n",
       "\n",
       "    .dataframe thead th {\n",
       "        text-align: right;\n",
       "    }\n",
       "</style>\n",
       "<table border=\"1\" class=\"dataframe\">\n",
       "  <thead>\n",
       "    <tr style=\"text-align: right;\">\n",
       "      <th></th>\n",
       "      <th>Company/Brand</th>\n",
       "      <th>Sector</th>\n",
       "      <th>Stage</th>\n",
       "      <th>Amount($)</th>\n",
       "      <th>HeadQuarter</th>\n",
       "      <th>What it does</th>\n",
       "      <th>Year</th>\n",
       "      <th>Founded</th>\n",
       "      <th>Founders</th>\n",
       "      <th>Investor</th>\n",
       "    </tr>\n",
       "  </thead>\n",
       "  <tbody>\n",
       "    <tr>\n",
       "      <th>175</th>\n",
       "      <td>Bombay Shaving</td>\n",
       "      <td>Ecommerce</td>\n",
       "      <td>undisclosed</td>\n",
       "      <td>6300000</td>\n",
       "      <td>NaN</td>\n",
       "      <td>Provides a range of male grooming products</td>\n",
       "      <td>2019</td>\n",
       "      <td>NaN</td>\n",
       "      <td>Shantanu Deshpande</td>\n",
       "      <td>Sixth Sense Ventures</td>\n",
       "    </tr>\n",
       "    <tr>\n",
       "      <th>176</th>\n",
       "      <td>Ruangguru</td>\n",
       "      <td>Edtech</td>\n",
       "      <td>Series C</td>\n",
       "      <td>150000000</td>\n",
       "      <td>Mumbai</td>\n",
       "      <td>A learning platform that provides topic-based ...</td>\n",
       "      <td>2019</td>\n",
       "      <td>NaN</td>\n",
       "      <td>Adamas Belva Syah Devara Iman Usman.</td>\n",
       "      <td>General Atlantic</td>\n",
       "    </tr>\n",
       "    <tr>\n",
       "      <th>177</th>\n",
       "      <td>Eduisfun</td>\n",
       "      <td>Edtech</td>\n",
       "      <td>Fresh funding</td>\n",
       "      <td>28000000</td>\n",
       "      <td>Mumbai</td>\n",
       "      <td>It aims to make learning fun via games.</td>\n",
       "      <td>2019</td>\n",
       "      <td>NaN</td>\n",
       "      <td>Jatin Solanki</td>\n",
       "      <td>Deepak Parekh Amitabh Bachchan Piyush Pandey</td>\n",
       "    </tr>\n",
       "    <tr>\n",
       "      <th>178</th>\n",
       "      <td>HomeLane</td>\n",
       "      <td>Interior design</td>\n",
       "      <td>Series D</td>\n",
       "      <td>30000000</td>\n",
       "      <td>Chennai</td>\n",
       "      <td>Provides interior designing solutions</td>\n",
       "      <td>2019</td>\n",
       "      <td>NaN</td>\n",
       "      <td>Srikanth Iyer Rama Harinath</td>\n",
       "      <td>Evolvence India Fund (EIF) Pidilite Group FJ Labs</td>\n",
       "    </tr>\n",
       "    <tr>\n",
       "      <th>179</th>\n",
       "      <td>Nu Genes</td>\n",
       "      <td>AgriTech</td>\n",
       "      <td>undisclosed</td>\n",
       "      <td>6000000</td>\n",
       "      <td>Telangana</td>\n",
       "      <td>It is a seed company engaged in production pro...</td>\n",
       "      <td>2019</td>\n",
       "      <td>NaN</td>\n",
       "      <td>Narayana Reddy Punyala</td>\n",
       "      <td>Innovation in Food and Agriculture (IFA)</td>\n",
       "    </tr>\n",
       "    <tr>\n",
       "      <th>...</th>\n",
       "      <td>...</td>\n",
       "      <td>...</td>\n",
       "      <td>...</td>\n",
       "      <td>...</td>\n",
       "      <td>...</td>\n",
       "      <td>...</td>\n",
       "      <td>...</td>\n",
       "      <td>...</td>\n",
       "      <td>...</td>\n",
       "      <td>...</td>\n",
       "    </tr>\n",
       "    <tr>\n",
       "      <th>2523</th>\n",
       "      <td>Gigforce</td>\n",
       "      <td>Staffing &amp; Recruiting</td>\n",
       "      <td>Pre-series A</td>\n",
       "      <td>3000000</td>\n",
       "      <td>Gurugram</td>\n",
       "      <td>A gig/on-demand staffing company.</td>\n",
       "      <td>2021</td>\n",
       "      <td>NaN</td>\n",
       "      <td>Chirag Mittal Anirudh Syal</td>\n",
       "      <td>Endiya Partners</td>\n",
       "    </tr>\n",
       "    <tr>\n",
       "      <th>2524</th>\n",
       "      <td>Vahdam</td>\n",
       "      <td>Food &amp; Beverages</td>\n",
       "      <td>Series D</td>\n",
       "      <td>20000000</td>\n",
       "      <td>New Delhi</td>\n",
       "      <td>VAHDAM is among the world’s first vertically i...</td>\n",
       "      <td>2021</td>\n",
       "      <td>NaN</td>\n",
       "      <td>Bala Sarda</td>\n",
       "      <td>IIFL AMC</td>\n",
       "    </tr>\n",
       "    <tr>\n",
       "      <th>2525</th>\n",
       "      <td>Leap Finance</td>\n",
       "      <td>Financial Services</td>\n",
       "      <td>Series C</td>\n",
       "      <td>55000000</td>\n",
       "      <td>Bangalore</td>\n",
       "      <td>International education loans for high potenti...</td>\n",
       "      <td>2021</td>\n",
       "      <td>NaN</td>\n",
       "      <td>Arnav Kumar Vaibhav Singh</td>\n",
       "      <td>Owl Ventures</td>\n",
       "    </tr>\n",
       "    <tr>\n",
       "      <th>2526</th>\n",
       "      <td>CollegeDekho</td>\n",
       "      <td>EdTech</td>\n",
       "      <td>Series B</td>\n",
       "      <td>26000000</td>\n",
       "      <td>Gurugram</td>\n",
       "      <td>Collegedekho.com is Student’s Partner Friend &amp;...</td>\n",
       "      <td>2021</td>\n",
       "      <td>NaN</td>\n",
       "      <td>Ruchir Arora</td>\n",
       "      <td>Winter Capital ETS Man Capital</td>\n",
       "    </tr>\n",
       "    <tr>\n",
       "      <th>2527</th>\n",
       "      <td>WeRize</td>\n",
       "      <td>Financial Services</td>\n",
       "      <td>Series A</td>\n",
       "      <td>8000000</td>\n",
       "      <td>Bangalore</td>\n",
       "      <td>India’s first socially distributed full stack ...</td>\n",
       "      <td>2021</td>\n",
       "      <td>NaN</td>\n",
       "      <td>Vishal Chopra Himanshu Gupta</td>\n",
       "      <td>3one4 Capital Kalaari Capital</td>\n",
       "    </tr>\n",
       "  </tbody>\n",
       "</table>\n",
       "<p>1935 rows × 10 columns</p>\n",
       "</div>"
      ],
      "text/plain": [
       "       Company/Brand                 Sector          Stage  Amount($)  \\\n",
       "175   Bombay Shaving              Ecommerce    undisclosed    6300000   \n",
       "176        Ruangguru                 Edtech       Series C  150000000   \n",
       "177         Eduisfun                 Edtech  Fresh funding   28000000   \n",
       "178         HomeLane        Interior design       Series D   30000000   \n",
       "179         Nu Genes               AgriTech    undisclosed    6000000   \n",
       "...              ...                    ...            ...        ...   \n",
       "2523        Gigforce  Staffing & Recruiting   Pre-series A    3000000   \n",
       "2524          Vahdam       Food & Beverages       Series D   20000000   \n",
       "2525    Leap Finance     Financial Services       Series C   55000000   \n",
       "2526    CollegeDekho                 EdTech       Series B   26000000   \n",
       "2527          WeRize     Financial Services       Series A    8000000   \n",
       "\n",
       "     HeadQuarter                                       What it does  Year  \\\n",
       "175          NaN         Provides a range of male grooming products  2019   \n",
       "176       Mumbai  A learning platform that provides topic-based ...  2019   \n",
       "177       Mumbai            It aims to make learning fun via games.  2019   \n",
       "178      Chennai              Provides interior designing solutions  2019   \n",
       "179    Telangana  It is a seed company engaged in production pro...  2019   \n",
       "...          ...                                                ...   ...   \n",
       "2523    Gurugram                  A gig/on-demand staffing company.  2021   \n",
       "2524   New Delhi  VAHDAM is among the world’s first vertically i...  2021   \n",
       "2525   Bangalore  International education loans for high potenti...  2021   \n",
       "2526    Gurugram  Collegedekho.com is Student’s Partner Friend &...  2021   \n",
       "2527   Bangalore  India’s first socially distributed full stack ...  2021   \n",
       "\n",
       "     Founded                              Founders  \\\n",
       "175      NaN                    Shantanu Deshpande   \n",
       "176      NaN  Adamas Belva Syah Devara Iman Usman.   \n",
       "177      NaN                         Jatin Solanki   \n",
       "178      NaN           Srikanth Iyer Rama Harinath   \n",
       "179      NaN                Narayana Reddy Punyala   \n",
       "...      ...                                   ...   \n",
       "2523     NaN            Chirag Mittal Anirudh Syal   \n",
       "2524     NaN                            Bala Sarda   \n",
       "2525     NaN             Arnav Kumar Vaibhav Singh   \n",
       "2526     NaN                          Ruchir Arora   \n",
       "2527     NaN          Vishal Chopra Himanshu Gupta   \n",
       "\n",
       "                                               Investor  \n",
       "175                                Sixth Sense Ventures  \n",
       "176                                    General Atlantic  \n",
       "177        Deepak Parekh Amitabh Bachchan Piyush Pandey  \n",
       "178   Evolvence India Fund (EIF) Pidilite Group FJ Labs  \n",
       "179            Innovation in Food and Agriculture (IFA)  \n",
       "...                                                 ...  \n",
       "2523                                    Endiya Partners  \n",
       "2524                                           IIFL AMC  \n",
       "2525                                       Owl Ventures  \n",
       "2526                     Winter Capital ETS Man Capital  \n",
       "2527                      3one4 Capital Kalaari Capital  \n",
       "\n",
       "[1935 rows x 10 columns]"
      ]
     },
     "execution_count": 57,
     "metadata": {},
     "output_type": "execute_result"
    }
   ],
   "source": [
    "new2"
   ]
  },
  {
   "cell_type": "code",
   "execution_count": 58,
   "id": "da9ae970",
   "metadata": {},
   "outputs": [
    {
     "data": {
      "text/plain": [
       "175       6300000\n",
       "176     150000000\n",
       "177      28000000\n",
       "178      30000000\n",
       "179       6000000\n",
       "          ...    \n",
       "2523      3000000\n",
       "2524     20000000\n",
       "2525     55000000\n",
       "2526     26000000\n",
       "2527      8000000\n",
       "Name: Amount($), Length: 1935, dtype: int64"
      ]
     },
     "execution_count": 58,
     "metadata": {},
     "output_type": "execute_result"
    }
   ],
   "source": [
    "new2['Amount($)'].astype('int64')"
   ]
  },
  {
   "cell_type": "markdown",
   "id": "83cd5b4f",
   "metadata": {},
   "source": [
    "## HEADQUATER  "
   ]
  },
  {
   "cell_type": "code",
   "execution_count": 59,
   "id": "953151f0",
   "metadata": {},
   "outputs": [
    {
     "data": {
      "text/plain": [
       "dtype('O')"
      ]
     },
     "execution_count": 59,
     "metadata": {},
     "output_type": "execute_result"
    }
   ],
   "source": [
    "new2['HeadQuarter'].dtype"
   ]
  },
  {
   "cell_type": "code",
   "execution_count": 60,
   "id": "c1d34161",
   "metadata": {},
   "outputs": [
    {
     "data": {
      "text/plain": [
       "94"
      ]
     },
     "execution_count": 60,
     "metadata": {},
     "output_type": "execute_result"
    }
   ],
   "source": [
    "new2['HeadQuarter'].isna().sum()"
   ]
  },
  {
   "cell_type": "code",
   "execution_count": 61,
   "id": "eeab1265",
   "metadata": {},
   "outputs": [
    {
     "data": {
      "text/plain": [
       "(1935,)"
      ]
     },
     "execution_count": 61,
     "metadata": {},
     "output_type": "execute_result"
    }
   ],
   "source": [
    "new2['HeadQuarter'].shape"
   ]
  },
  {
   "cell_type": "code",
   "execution_count": 62,
   "id": "fa2a5b2a",
   "metadata": {},
   "outputs": [
    {
     "name": "stdout",
     "output_type": "stream",
     "text": [
      "The percentage of HeadQuater missing values 4.857881136950904\n"
     ]
    }
   ],
   "source": [
    "print ('The percentage of HeadQuater missing values', 94/1935*100)"
   ]
  },
  {
   "cell_type": "code",
   "execution_count": 63,
   "id": "81e1b342",
   "metadata": {},
   "outputs": [
    {
     "ename": "AttributeError",
     "evalue": "'Series' object has no attribute 'info'",
     "output_type": "error",
     "traceback": [
      "\u001b[1;31m---------------------------------------------------------------------------\u001b[0m",
      "\u001b[1;31mAttributeError\u001b[0m                            Traceback (most recent call last)",
      "\u001b[1;32m~\\AppData\\Local\\Temp/ipykernel_3892/1779996556.py\u001b[0m in \u001b[0;36m<module>\u001b[1;34m\u001b[0m\n\u001b[1;32m----> 1\u001b[1;33m \u001b[0mnew2\u001b[0m\u001b[1;33m[\u001b[0m\u001b[1;34m'HeadQuarter'\u001b[0m\u001b[1;33m]\u001b[0m\u001b[1;33m.\u001b[0m\u001b[0minfo\u001b[0m\u001b[1;33m(\u001b[0m\u001b[1;33m)\u001b[0m\u001b[1;33m\u001b[0m\u001b[1;33m\u001b[0m\u001b[0m\n\u001b[0m",
      "\u001b[1;32m~\\anaconda3\\lib\\site-packages\\pandas\\core\\generic.py\u001b[0m in \u001b[0;36m__getattr__\u001b[1;34m(self, name)\u001b[0m\n\u001b[0;32m   5485\u001b[0m         ):\n\u001b[0;32m   5486\u001b[0m             \u001b[1;32mreturn\u001b[0m \u001b[0mself\u001b[0m\u001b[1;33m[\u001b[0m\u001b[0mname\u001b[0m\u001b[1;33m]\u001b[0m\u001b[1;33m\u001b[0m\u001b[1;33m\u001b[0m\u001b[0m\n\u001b[1;32m-> 5487\u001b[1;33m         \u001b[1;32mreturn\u001b[0m \u001b[0mobject\u001b[0m\u001b[1;33m.\u001b[0m\u001b[0m__getattribute__\u001b[0m\u001b[1;33m(\u001b[0m\u001b[0mself\u001b[0m\u001b[1;33m,\u001b[0m \u001b[0mname\u001b[0m\u001b[1;33m)\u001b[0m\u001b[1;33m\u001b[0m\u001b[1;33m\u001b[0m\u001b[0m\n\u001b[0m\u001b[0;32m   5488\u001b[0m \u001b[1;33m\u001b[0m\u001b[0m\n\u001b[0;32m   5489\u001b[0m     \u001b[1;32mdef\u001b[0m \u001b[0m__setattr__\u001b[0m\u001b[1;33m(\u001b[0m\u001b[0mself\u001b[0m\u001b[1;33m,\u001b[0m \u001b[0mname\u001b[0m\u001b[1;33m:\u001b[0m \u001b[0mstr\u001b[0m\u001b[1;33m,\u001b[0m \u001b[0mvalue\u001b[0m\u001b[1;33m)\u001b[0m \u001b[1;33m->\u001b[0m \u001b[1;32mNone\u001b[0m\u001b[1;33m:\u001b[0m\u001b[1;33m\u001b[0m\u001b[1;33m\u001b[0m\u001b[0m\n",
      "\u001b[1;31mAttributeError\u001b[0m: 'Series' object has no attribute 'info'"
     ]
    }
   ],
   "source": [
    "new2['HeadQuarter'].info()"
   ]
  },
  {
   "cell_type": "code",
   "execution_count": null,
   "id": "a3f0dd2d",
   "metadata": {},
   "outputs": [],
   "source": [
    "#impute the null values with most frequent since they are only 5%  \n",
    "\n",
    "#Get the SimpleImputer from sklearn\n",
    "from sklearn.impute import SimpleImputer \n",
    "\n",
    "#Create an instance of our imputer\n",
    "imputer = SimpleImputer(strategy = 'most_frequent')\n",
    "\n",
    "#Fit in our imputer to the data\n",
    "imputer.fit_transform(new2)"
   ]
  },
  {
   "cell_type": "code",
   "execution_count": null,
   "id": "649eb4e7",
   "metadata": {},
   "outputs": [],
   "source": [
    "new2['HeadQuarter'].isna().sum()"
   ]
  },
  {
   "cell_type": "code",
   "execution_count": null,
   "id": "9b33350b",
   "metadata": {},
   "outputs": [],
   "source": [
    "# Check for the unqiue values for any anomaly \n",
    "#new2['HeadQuarter'].unique"
   ]
  },
  {
   "cell_type": "code",
   "execution_count": null,
   "id": "c7a40856",
   "metadata": {},
   "outputs": [],
   "source": [
    "#with pd.option_context('display.max_rows', None,):\n",
    "    #print(new2['HeadQuarter'])"
   ]
  },
  {
   "cell_type": "code",
   "execution_count": null,
   "id": "dc70718f",
   "metadata": {},
   "outputs": [],
   "source": [
    "#Check using value_counts for the frequency occurence of top ten Locations \n",
    "new2['HeadQuarter'].value_counts().head(15)"
   ]
  },
  {
   "cell_type": "code",
   "execution_count": null,
   "id": "438f4646",
   "metadata": {},
   "outputs": [],
   "source": [
    "new2.head(2)"
   ]
  },
  {
   "cell_type": "markdown",
   "id": "fc6034a2",
   "metadata": {},
   "source": [
    "## FOUNDED YEAR "
   ]
  },
  {
   "cell_type": "code",
   "execution_count": null,
   "id": "2129da28",
   "metadata": {},
   "outputs": [],
   "source": [
    "#check for is null values \n",
    "new2['Founded'].isna().sum()"
   ]
  },
  {
   "cell_type": "code",
   "execution_count": null,
   "id": "061402f6",
   "metadata": {},
   "outputs": [],
   "source": [
    "new2['Founded'].shape"
   ]
  },
  {
   "cell_type": "code",
   "execution_count": null,
   "id": "fecc6594",
   "metadata": {},
   "outputs": [],
   "source": [
    "# percentage of missing values \n",
    "a = 1278/1935*100\n",
    "print(' Percentage of missing values is ' , a)"
   ]
  },
  {
   "cell_type": "code",
   "execution_count": null,
   "id": "a7a4fcdf",
   "metadata": {},
   "outputs": [],
   "source": [
    "# Look for probable reason for most missing values \n",
    "new"
   ]
  },
  {
   "cell_type": "code",
   "execution_count": null,
   "id": "f216947c",
   "metadata": {},
   "outputs": [],
   "source": [
    "# Drop that column \n",
    "\n",
    "new3 = new2.drop('Founded', axis=1)\n"
   ]
  },
  {
   "cell_type": "markdown",
   "id": "7fdec7ad",
   "metadata": {},
   "source": [
    "The assumption would have been that since the 2018 dataset doesnt have the Founded column , then most missing values if maximum will be  a figure shy of 2018 dataset column_numbers, but the number is big. \n",
    "We have decided to drop the whole column. \n",
    "\n",
    "Why not use the founded year, and why we dont see it to be relevant "
   ]
  },
  {
   "cell_type": "markdown",
   "id": "b2cfa283",
   "metadata": {},
   "source": [
    "## FOUNDERS COLUMN DEEP DIVE "
   ]
  },
  {
   "cell_type": "code",
   "execution_count": null,
   "id": "cfc0ed74",
   "metadata": {},
   "outputs": [],
   "source": [
    "#look at the value counts \n",
    "new3['Founders'].value_counts()"
   ]
  },
  {
   "cell_type": "code",
   "execution_count": null,
   "id": "f4f982f9",
   "metadata": {},
   "outputs": [],
   "source": [
    "#see what each column contains \n",
    "new3['Founders'].unique()"
   ]
  },
  {
   "cell_type": "code",
   "execution_count": null,
   "id": "ffb72e3d",
   "metadata": {},
   "outputs": [],
   "source": [
    "#with pd.option_context('display.max_rows', None):\n",
    "    #print(new3['Founders'])"
   ]
  },
  {
   "cell_type": "markdown",
   "id": "764de245",
   "metadata": {},
   "source": [
    "## INVESTOR COLUMN  "
   ]
  },
  {
   "cell_type": "code",
   "execution_count": null,
   "id": "938dad62",
   "metadata": {},
   "outputs": [],
   "source": [
    "new3['Investor'].value_counts().head(15)"
   ]
  },
  {
   "cell_type": "code",
   "execution_count": null,
   "id": "7ae13ec5",
   "metadata": {},
   "outputs": [],
   "source": [
    "new3.head()"
   ]
  },
  {
   "cell_type": "code",
   "execution_count": null,
   "id": "5407ce94",
   "metadata": {},
   "outputs": [],
   "source": [
    "new3.shape"
   ]
  },
  {
   "cell_type": "code",
   "execution_count": null,
   "id": "3c176051",
   "metadata": {},
   "outputs": [],
   "source": [
    "new2['Investor'].isna().sum()"
   ]
  },
  {
   "cell_type": "code",
   "execution_count": null,
   "id": "a8e72a39",
   "metadata": {},
   "outputs": [],
   "source": [
    "new2['Investor'].shape"
   ]
  },
  {
   "cell_type": "code",
   "execution_count": null,
   "id": "9da31af7",
   "metadata": {},
   "outputs": [],
   "source": [
    "# percentage of null values  \n",
    "o  = 82/2313*100\n",
    "print ('The percentage of missing values in the Investor column is ' , o , '%') "
   ]
  },
  {
   "cell_type": "code",
   "execution_count": null,
   "id": "7e022ddd",
   "metadata": {},
   "outputs": [],
   "source": [
    "new3['Investor'].unique()"
   ]
  },
  {
   "cell_type": "code",
   "execution_count": null,
   "id": "eb89c4fc",
   "metadata": {},
   "outputs": [],
   "source": [
    "#with pd.option_context('display.max_rows', None ):\n",
    "    #print(new3['Investor'])"
   ]
  },
  {
   "cell_type": "markdown",
   "id": "9c928aca",
   "metadata": {},
   "source": [
    "# YEAR COLUMN DEEP DIVE "
   ]
  },
  {
   "cell_type": "code",
   "execution_count": null,
   "id": "b5b84be1",
   "metadata": {},
   "outputs": [],
   "source": [
    "new3['Year'].value_counts()"
   ]
  },
  {
   "cell_type": "code",
   "execution_count": null,
   "id": "b2bfcf0c",
   "metadata": {},
   "outputs": [],
   "source": [
    "new3['Year'] = pd.to_datetime (new3['Year'] ).dt.year"
   ]
  },
  {
   "cell_type": "code",
   "execution_count": null,
   "id": "e3347da7",
   "metadata": {},
   "outputs": [],
   "source": [
    "new3['Year'].head()"
   ]
  },
  {
   "cell_type": "markdown",
   "id": "d8ea4a73",
   "metadata": {},
   "source": [
    "# GET VISUAL BEFORE ANSWERING THE QUESTIONS "
   ]
  },
  {
   "cell_type": "code",
   "execution_count": null,
   "id": "b4d1f340",
   "metadata": {},
   "outputs": [],
   "source": [
    "new3.describe()"
   ]
  },
  {
   "cell_type": "code",
   "execution_count": null,
   "id": "034226da-2c91-4742-acc2-4bc7331d8d3b",
   "metadata": {},
   "outputs": [],
   "source": [
    "new3.info()"
   ]
  },
  {
   "cell_type": "code",
   "execution_count": null,
   "id": "9da9ae07",
   "metadata": {},
   "outputs": [],
   "source": [
    "#CONVERT MY DATASET COLUMNS TO THE RIGHT DTYPE "
   ]
  },
  {
   "cell_type": "code",
   "execution_count": null,
   "id": "dec35065",
   "metadata": {},
   "outputs": [],
   "source": [
    "new3.info()"
   ]
  },
  {
   "cell_type": "code",
   "execution_count": null,
   "id": "4c27664f-8d73-4535-b782-1cbd39ca804a",
   "metadata": {},
   "outputs": [],
   "source": [
    "new3['Amount($)'] = new3['Amount($)'].astype('int64')\n",
    "\n",
    "new3['Year'] = pd.to_datetime (new3['Year'] ).dt.year\n",
    "\n",
    "new3"
   ]
  },
  {
   "cell_type": "markdown",
   "id": "89624a72-b31d-4b5b-aa53-d6487320279b",
   "metadata": {},
   "source": [
    "# ANSWERING OUR QUESTIONS"
   ]
  },
  {
   "cell_type": "markdown",
   "id": "3475f9f6",
   "metadata": {},
   "source": [
    "1. At what stage did most companies received funding ?\n",
    "\n",
    "\n",
    "2. Does the location influence of the most funding stage  ?\n",
    "   \n",
    "\n",
    "3. a) What are the top 10 most funded companies/sectors ? \n",
    "   \n",
    "   b) What stage are the the top 10 most funded companies/sectors ? \n",
    "   \n",
    "\n",
    "4. What city/ location does the most funding go to ?\n",
    "\n",
    "    (Regardless of stage , since Question 2 addressed part of it)\n",
    "\n",
    "\n",
    "5. Who are the most Funding investors for the most funded year ?\n",
    "\n",
    "   ( For the years 2019, 2020)\n",
    "   \n",
    "   \n",
    "6. What has the funding over the years trend been like ? \n",
    "    \n",
    "    a) What year was the most funding given ? \n",
    "    \n",
    "    b) What is the average funding for every year ? \n",
    "\n",
    "    c) What is the % increase in funding from year to year ?"
   ]
  },
  {
   "cell_type": "markdown",
   "id": "5ab91a61",
   "metadata": {},
   "source": [
    "# 1. At what stage did most companies received funding ?"
   ]
  },
  {
   "cell_type": "code",
   "execution_count": null,
   "id": "0d693c9b",
   "metadata": {},
   "outputs": [],
   "source": [
    "# look at our dataset \n",
    "new3.head()"
   ]
  },
  {
   "cell_type": "code",
   "execution_count": null,
   "id": "4f482e4f",
   "metadata": {},
   "outputs": [],
   "source": [
    "new3['Stage'].replace(['Pre-series A','Pre Series A', 'Pre Series A', 'Pre series A ', 'Pre series A', 'Pre-series A1' ], 'Pre Series A', inplace = True)\n",
    "\n",
    "\n",
    "new3['Stage'].replace(['Seed', 'Seed Round' ], 'Seed', inplace = True)\n",
    "\n",
    "new3['Stage'].replace(['Pre-series B', 'Pre series B' , 'Pre-Series B ', 'Pre-Series B ', 'Pre-Series B'], 'Pre Series B', inplace = True)\n",
    "\n",
    "new3['Stage'].replace(' https://docs.google.com/spreadsheets/d/1x9ziNe...' , 'undisclosed', inplace = True)"
   ]
  },
  {
   "cell_type": "markdown",
   "id": "06293cf2-7b97-411c-804c-eb2cc4e0b1af",
   "metadata": {},
   "source": [
    "We first want to know how many companies were at different stages , So that we can compare and speculate on the reason why which company stage received the minimum funding, \n",
    "\n",
    "I.e; If the least funded stage has the lowest number of companies , then we can assume that most companies dont reach that stage. "
   ]
  },
  {
   "cell_type": "code",
   "execution_count": null,
   "id": "4c0619f5",
   "metadata": {},
   "outputs": [],
   "source": [
    "new3['Stage'].value_counts().head(10)"
   ]
  },
  {
   "cell_type": "code",
   "execution_count": null,
   "id": "6f3724ae",
   "metadata": {},
   "outputs": [],
   "source": [
    "x = [ 'Undisclosed', 'Seed',  'Preseries A', 'Series A','Series B', 'Series C', 'Series D',  'Debt']\n",
    "y = [ 715, 264, 226, 176, 111, 96, 47, 45]"
   ]
  },
  {
   "cell_type": "code",
   "execution_count": null,
   "id": "a17fcaaa",
   "metadata": {},
   "outputs": [],
   "source": [
    "plt.figure(figsize=(15,6))\n",
    "plt.bar(x, y, label='Bars1')\n",
    "plt.title('NUMBER OF COMPANIES PER STAGE')"
   ]
  },
  {
   "cell_type": "markdown",
   "id": "26ab1617",
   "metadata": {},
   "source": [
    "**Points to remember**\n",
    "\n",
    "1. Our NaN values which amounts to 32 % of the column value have been renamed to undisclosed \n",
    "\n",
    "2. 'https://docs.google.com/spreadsheets/d/1x9ziNe...' found within out dataset was renamed to undisclosed\n"
   ]
  },
  {
   "cell_type": "markdown",
   "id": "2a051ee5",
   "metadata": {},
   "source": [
    "**OBSERVATIONS** \n",
    "\n",
    "Most companies did not disclose the level at which they received their respective funding and at what frequency it occured. Of the top ten companies , this happened to the tune of 38.65% I.e, out of the top ten companies which is 1850 companies, 715 choose to remain undisclosed. \n",
    "\n",
    "If we treat the companies with their stage undisclosed as outliers , the we'll find out that seed stage has the most number of companies and the Series E stage has the least number of companies. \n",
    "\n",
    "            1. undisclosed     715\n",
    "            2. Seed            308\n",
    "            3. Pre Series A    236\n",
    "            4. Series A        226\n",
    "            5. Series B        111\n",
    "            6. Series C         96\n",
    "            7. Series D         47\n",
    "            8. Debt             45\n",
    "            9. Pre-seed         43\n",
    "           10. Series E         24\n",
    "           \n",
    " \n",
    " All our NaN values were renamed to undisclosed, and in our **2018 dataset**, there was no stage column, therefore part of the reason for the high number of undisclosed values."
   ]
  },
  {
   "cell_type": "markdown",
   "id": "95b22bda-bd24-4c6b-a654-d2a44d5d2d62",
   "metadata": {},
   "source": [
    "### ACTUAL INVESTIGATION "
   ]
  },
  {
   "cell_type": "code",
   "execution_count": null,
   "id": "9e1d7259-092c-4fe7-916c-da20ca962380",
   "metadata": {},
   "outputs": [],
   "source": [
    "## Further visualization for Question 1\n",
    "\n",
    "funding_stage = new3.groupby('Stage')['Amount($)'].sum().reset_index()\n",
    "funding_stage = funding_stage.sort_values(by = 'Amount($)', ascending = False)\n"
   ]
  },
  {
   "cell_type": "code",
   "execution_count": null,
   "id": "4ee97d44-f872-4f8e-9c1c-360c1ebffb82",
   "metadata": {},
   "outputs": [],
   "source": [
    "\n",
    "plt.figure(figsize=(12,10))\n",
    "\n",
    "#plt.style.use('fivethirtyeight')\n",
    "sns.barplot (y = \"Stage\", x = \"Amount($)\", palette=\"Blues_d\", data = funding_stage.head(10))"
   ]
  },
  {
   "cell_type": "markdown",
   "id": "e385e7d8-333b-4117-8594-59b71be64210",
   "metadata": {},
   "source": [
    "The most funded stage is the debt stage, **ironically** it has only 45 companies to it against the 1850 companies. , This evidence will suggest that most investors fund companies in dire situations. \n",
    "\n",
    "Since a few number of companies are in the debt stage and alot of money is invested in this stage, it is understood that the individual companies receive alot of financial gain than other companies. "
   ]
  },
  {
   "cell_type": "markdown",
   "id": "9dc899a1-ca78-42d1-8cd5-f612216e5e57",
   "metadata": {},
   "source": [
    "# 2) DOES THE LOCATION AFFECT THE MOST FUNDED STAGES ?\n",
    "?"
   ]
  },
  {
   "cell_type": "markdown",
   "id": "b2708deb-545c-44b5-84ec-5e35a78fef37",
   "metadata": {},
   "source": [
    "From the above table if is observed that the **Debt**, **undisclosed** , **series C** ,  **seies B** and **series D** are the most funded stages, \n",
    "Do a deep dive on the location to see if location affects them , and if so by what margin "
   ]
  },
  {
   "cell_type": "code",
   "execution_count": null,
   "id": "58b3bb08-554e-4fd7-be96-e3263a34f986",
   "metadata": {},
   "outputs": [],
   "source": [
    "new2.head(0)"
   ]
  },
  {
   "cell_type": "code",
   "execution_count": null,
   "id": "53b4be08-8a95-490c-8b72-7c0ff3098165",
   "metadata": {},
   "outputs": [],
   "source": [
    "\n",
    "location_stage = new3.groupby('HeadQuarter')['Stage'].sum().reset_index()\n",
    "location_stage = location_stage.sort_values(by = 'Stage', ascending = False)\n",
    "\n",
    "\n",
    "\n",
    "# Get the value counts and ascend the value to see the location frequency, and if you can see duplicate values\n",
    "k = pd.DataFrame(location_stage['HeadQuarter'].value_counts())\n",
    "k = k.sort_values(by = 'HeadQuarter' ,ascending = False)\n",
    "\n",
    "k"
   ]
  },
  {
   "cell_type": "code",
   "execution_count": null,
   "id": "5a511a38-ae4c-4055-83a3-f68ffd6e90b2",
   "metadata": {},
   "outputs": [],
   "source": [
    "# Inspect for duplicate, mispelled words\n",
    "\n",
    "#with pd.option_context('display.max_rows', None):\n",
    " #   print(k)\n",
    "          \n"
   ]
  },
  {
   "cell_type": "markdown",
   "id": "e3e1d8d0-ba08-4bc9-bc11-89703bc7c843",
   "metadata": {},
   "source": [
    "Location does'nt influence stage of funding signicantly, \n",
    "In the above locations we only have Delhi , and Carlifornia having **quite some** occurences"
   ]
  },
  {
   "cell_type": "markdown",
   "id": "03d98436",
   "metadata": {},
   "source": [
    "# 3 a) What are the top 10 most funded companies/sectors ?\n",
    "\n",
    "#   b) What stage are the most funded companies/sectors ? \n"
   ]
  },
  {
   "cell_type": "code",
   "execution_count": null,
   "id": "cb80edcf",
   "metadata": {},
   "outputs": [],
   "source": [
    "new3.head(2)"
   ]
  },
  {
   "cell_type": "code",
   "execution_count": null,
   "id": "e5cc52cd-e82f-4a60-9648-3de67a4e43fd",
   "metadata": {},
   "outputs": [],
   "source": [
    "\n",
    "funded_companies = new3.groupby('Company/Brand')['Amount($)'].sum().reset_index()\n",
    "funded_companies = funded_companies.sort_values(by = 'Amount($)', ascending = False)\n",
    "\n",
    "\n",
    "#with pd.option_context('Display.max_rows', None):\n",
    "#   print(funded_companies['Company/Brand'])"
   ]
  },
  {
   "cell_type": "markdown",
   "id": "395ec76a-2901-435e-aa3a-9f242c5e325f",
   "metadata": {},
   "source": [
    "**INCONSINTENCIES FOUND WITHIN OUR DATA** \n",
    "\n",
    " BJYU'S / Byju's / Byju / Bijnis / BJYU - BJYU (rename to BJYU)\n",
    " \n",
    " OYO / oyo / owo - Oyo ( rename to Oyo)\n",
    " "
   ]
  },
  {
   "cell_type": "code",
   "execution_count": null,
   "id": "c050a3d5-75b8-455f-9309-01ca32a150ad",
   "metadata": {},
   "outputs": [],
   "source": [
    "#Renaming the inconsistencies \n",
    "\n",
    "funded_companies.replace(to_replace = [ \"BYJU'S\", \"Byju's\" , \"Byju\", \"Bijnis\", \"BJYU\" ], value = [\"BJYU\", \"BJYU\", \"BJYU\", \"BJYU\", \"BJYU\"], inplace = True)\n",
    "\n",
    "funded_companies.replace(to_replace = [ \"OYO\", \"oyo\", \"owo\"] , value = [ \"Oyo\", \"Oyo\", \"Oyo\"], inplace = True)"
   ]
  },
  {
   "cell_type": "code",
   "execution_count": null,
   "id": "0411e41e-c8b5-4070-8db5-da8ea4e81152",
   "metadata": {},
   "outputs": [],
   "source": [
    "funded_companies.head(10)"
   ]
  },
  {
   "cell_type": "code",
   "execution_count": null,
   "id": "3b68d19b-6417-49b4-b782-1ad00c307522",
   "metadata": {},
   "outputs": [],
   "source": [
    "plt.style.use('fivethirtyeight')\n",
    "plt.figure(figsize=(12,10))\n",
    "plt.title('TOP 10 MOST FUNDED COMPANIES')\n",
    "sns.barplot (y = \"Company/Brand\", x = \"Amount($)\", palette=\"Blues_d\", saturation = 2.75,    data = funded_companies.head(6))"
   ]
  },
  {
   "cell_type": "markdown",
   "id": "9be897ed-d318-4b62-a25f-77cdc763cda6",
   "metadata": {},
   "source": [
    "### Top 5 most funded companies are \n",
    "Alteria Capital\n",
    "\n",
    "Reliance Retail Ventures Ltd\n",
    "\n",
    "Snowflake\n",
    "\n",
    "Reliance\n",
    "\n",
    "VerSe Innovation\n",
    "\n",
    "BJYU **(Subject to confirmation)**"
   ]
  },
  {
   "cell_type": "markdown",
   "id": "64e18613-6ecb-4a2b-86ba-78575b5d06dc",
   "metadata": {},
   "source": [
    "#   b) What stage are the most funded companies/sectors (Top 20) ?"
   ]
  },
  {
   "cell_type": "code",
   "execution_count": null,
   "id": "a2a221e5-efd3-451d-b651-54da2ff8a9f4",
   "metadata": {},
   "outputs": [],
   "source": [
    "new3['Amount($)'].dtype"
   ]
  },
  {
   "cell_type": "code",
   "execution_count": null,
   "id": "40a991e7-2b6b-4aec-9bc5-21840322b1ab",
   "metadata": {},
   "outputs": [],
   "source": [
    "top_10_most_funded = new3[new3['Amount($)'] >= 590000000]\n",
    "\n",
    "top_10_most_funded.head(10)"
   ]
  },
  {
   "cell_type": "code",
   "execution_count": null,
   "id": "3f341b92-c513-41de-b678-cde605c9d144",
   "metadata": {},
   "outputs": [],
   "source": [
    "top_10_most_funded['Stage'].value_counts()"
   ]
  },
  {
   "cell_type": "code",
   "execution_count": null,
   "id": "65b5a0ba-56fd-49ce-81ed-06c1629a69a4",
   "metadata": {},
   "outputs": [],
   "source": [
    "Stage = ['undisclosed', 'debt', 'series H']\n",
    "frequency = [11, 1 ,1]\n",
    "\n",
    "plt.bar( Stage , frequency)\n",
    "#plt.title('Most funded company stage')\n",
    "\n",
    "plt.show()"
   ]
  },
  {
   "cell_type": "markdown",
   "id": "95b11874-2a33-413c-acd1-1dba6d5a3306",
   "metadata": {},
   "source": [
    "###  Surface findings \n",
    "\n",
    "All the top 12 most funded countries stage was undisclosed, but we had one company at **series H** and another at **Debt stage**, All these companies were formed before 2000, therefore for an assumption of steady growth, then all these companies were either at **Stage H or above Stage H**\n",
    "  \n",
    "  \n",
    "**Since we are interested in the ecosystem company** We have not seen ecosystem companies being among the top ten most funded companies. Maybe we can find such in the lower quartile and such. \n",
    " "
   ]
  },
  {
   "cell_type": "markdown",
   "id": "3d7f320c-010f-4d24-893e-5395ce59260a",
   "metadata": {},
   "source": [
    "# 4. What city/ location does the most funding go to ?\n",
    "\n",
    "#    (Regardless of stage , since Question 2 addressed part of it)"
   ]
  },
  {
   "cell_type": "code",
   "execution_count": null,
   "id": "eac6e129-654a-4a0e-9522-93aff5789536",
   "metadata": {},
   "outputs": [],
   "source": [
    "new3.head(0)"
   ]
  },
  {
   "cell_type": "markdown",
   "id": "3e8a1076-c152-4417-87ad-56a120306eb7",
   "metadata": {},
   "source": [
    "From the solution we had for our question 2, It is already established that there are more factors for funding of companiies, Nevertheless , The most funded companies in Series H , Debt and Disclosed were within the same location. "
   ]
  },
  {
   "cell_type": "code",
   "execution_count": null,
   "id": "4abd7322-e957-47ea-955c-032fde58455e",
   "metadata": {},
   "outputs": [],
   "source": [
    "funded_location = new3.groupby('HeadQuarter')['Amount($)'].sum().reset_index()\n",
    "funded_location = funded_location.sort_values(by = 'Amount($)', ascending = False)\n",
    "\n",
    "funded_location.head(10)"
   ]
  },
  {
   "cell_type": "code",
   "execution_count": null,
   "id": "9d9dc420-1497-4dce-a7e1-dac651d68a23",
   "metadata": {},
   "outputs": [],
   "source": [
    "#plt.style.use('fivethirtyeight')\n",
    "sns.set_style (style = 'white')\n",
    "plt.figure(figsize=(12,10))\n",
    "#plt.title('MOST FUNDED CITIES')\n",
    "sns.barplot (y = \"HeadQuarter\", x = \"Amount($)\", palette=\"Blues_d\", saturation = 2.75,    data = funded_location.head(6))"
   ]
  },
  {
   "cell_type": "markdown",
   "id": "ae0f62d7-20eb-4353-8d23-d132d4339c7c",
   "metadata": {},
   "source": [
    "# 5. Who are the most Funding investors  ?\n",
    "\n"
   ]
  },
  {
   "cell_type": "code",
   "execution_count": null,
   "id": "b2065657-d7ac-4135-be04-3fda3c0fc38f",
   "metadata": {},
   "outputs": [],
   "source": [
    "new3.head(2)"
   ]
  },
  {
   "cell_type": "code",
   "execution_count": null,
   "id": "a6b41c18-dfb8-41a8-957b-dda52c028f9d",
   "metadata": {},
   "outputs": [],
   "source": [
    "funded_investors = new3.groupby('Investor')['Amount($)'].sum().reset_index()\n",
    "funded_investors = funded_investors.sort_values(by = 'Amount($)', ascending = False)\n",
    "\n",
    "funded_investors.head(10)"
   ]
  },
  {
   "cell_type": "code",
   "execution_count": null,
   "id": "b6618bb8-2697-443a-8b2a-b385bff7a797",
   "metadata": {},
   "outputs": [],
   "source": [
    "plt.style.use('fivethirtyeight')\n",
    "plt.figure(figsize=(12,10))\n",
    "#plt.title('MOST FUNDING INVESTORS')\n",
    "sns.barplot (y = \"Investor\", x = \"Amount($)\", palette=\"Blues_d\", saturation = 2.75,    data = funded_investors[1:9])"
   ]
  },
  {
   "cell_type": "markdown",
   "id": "c0de5b00-478d-4be8-9e0b-7a707dc3db59",
   "metadata": {},
   "source": [
    "**IMPORTANT**\n",
    "\n",
    "When plotting the overall top 10 most funding investors, It is important to note that we have sliced the first, most funding investor . Reason being Since **Silver Lake Mubadala Investment Company , the most funding company** has a large amount of funding I.e; more than twice of the most funding investor, We removed it , so as to compare the distribution between the other funding investors. \n",
    "\n",
    "**Later in PowerBI we an add a card of the most funded investor**\n"
   ]
  },
  {
   "cell_type": "markdown",
   "id": "382c89b0-b923-41ef-aa61-5d3ffab1137a",
   "metadata": {},
   "source": [
    "since our question is particularly interested in the most funding investors for the 2019, 2020 dataset and compare the most funding investor trend over the years ....."
   ]
  },
  {
   "cell_type": "code",
   "execution_count": null,
   "id": "b18cda48-d437-46df-8c89-03d23c283a55",
   "metadata": {},
   "outputs": [],
   "source": []
  },
  {
   "cell_type": "markdown",
   "id": "00b19654-2b5e-4e45-875a-5097c4c63500",
   "metadata": {},
   "source": [
    "# 6 What has the funding over the years trend been like ?\n",
    "\n",
    "##   a) What year was the most funding given ?\n",
    "\n",
    "##   b) What is the average funding for every year ?\n",
    "\n",
    "##   c) What is the % increase in funding from year to year ?"
   ]
  },
  {
   "cell_type": "code",
   "execution_count": null,
   "id": "721135a7",
   "metadata": {},
   "outputs": [],
   "source": [
    "new2['Year'].value_counts()"
   ]
  },
  {
   "cell_type": "code",
   "execution_count": null,
   "id": "afe9c4ba-f035-497a-b514-2e960233c1ee",
   "metadata": {},
   "outputs": [],
   "source": [
    "total_funding_received = new2['Amount($)'].astype('int64')\n",
    "\n",
    "total_funding_received.sum()"
   ]
  },
  {
   "cell_type": "code",
   "execution_count": null,
   "id": "c72cecbc-8481-4061-add5-2490369f5e86",
   "metadata": {},
   "outputs": [],
   "source": [
    "# we are locating the columns according to their years |\n",
    "\n",
    "funding_2019 = new2.loc[new2['Year']=='2019']\n",
    "funding_2020 = new2.loc[new2['Year']=='2020']\n",
    "funding_2021 = new2.loc[new2['Year']=='2021']"
   ]
  },
  {
   "cell_type": "code",
   "execution_count": null,
   "id": "4f2ad173-2dd9-4c00-9e14-6a60d93ab085",
   "metadata": {},
   "outputs": [],
   "source": [
    "# Converting the Amount column into integer so as to sum the values\n",
    "\n",
    "funding_sum_2019 = funding_2019['Amount($)'].apply(int)\n",
    "funding_sum_2020 = funding_2020['Amount($)'].apply(int)\n",
    "funding_sum_2021 = funding_2021['Amount($)'].apply(int)"
   ]
  },
  {
   "cell_type": "code",
   "execution_count": null,
   "id": "96500134-72e0-41a4-a25c-495f73113fb9",
   "metadata": {},
   "outputs": [],
   "source": [
    "# Print out the funding amount yearly\n",
    "\n",
    "print ('2019 total fund received is ', funding_sum_2019.sum(), '\\n')\n",
    "print ('2020 total fund received is ', funding_sum_2020.sum() , '\\n')\n",
    "print ('2021 total fund received is ', funding_sum_2021.sum(), '\\n' )\n",
    "print ('The total amount of funding received is ', total_funding_received.sum() )"
   ]
  },
  {
   "cell_type": "code",
   "execution_count": null,
   "id": "7d374a60-33ad-481a-8967-4d1a88c624ce",
   "metadata": {},
   "outputs": [],
   "source": [
    "# pass the results in a dataframe \n",
    "fund = {'2019': 3336433200 , '2020': 90549976604 , '2021':179813412000 }\n",
    "fund"
   ]
  },
  {
   "cell_type": "code",
   "execution_count": null,
   "id": "6a650168-8ec1-43ca-847b-93cf18e05af8",
   "metadata": {},
   "outputs": [],
   "source": [
    "# plot pie chart to visualize most funded year\n",
    "\n",
    "year = ['2019', '2020', '2021']\n",
    "amount = [3336433200, 90549976604, 179813412000]\n",
    "plt.title('PERCENTAGE FUNDING YEARLY ')\n",
    "plt.pie(x=amount, labels= year, autopct='%.2f%%')\n",
    "\n",
    "plt.show()"
   ]
  },
  {
   "cell_type": "code",
   "execution_count": null,
   "id": "fbeed5dd-1a37-404e-a428-d48ca6b0fc14",
   "metadata": {},
   "outputs": [],
   "source": []
  },
  {
   "cell_type": "markdown",
   "id": "147ada73-add8-4fcd-b2b7-7e3a98b509cf",
   "metadata": {},
   "source": [
    "## 6 B) What is the average funding for every year"
   ]
  },
  {
   "cell_type": "code",
   "execution_count": null,
   "id": "68dfbc9e-a8e9-46bd-9df3-6bb070d74db1",
   "metadata": {},
   "outputs": [],
   "source": [
    "# check the frequency of occurence per year\n",
    "new2['Year'].value_counts()"
   ]
  },
  {
   "cell_type": "code",
   "execution_count": null,
   "id": "28f5fb64-15a9-423a-b80b-92cf8fe89cc9",
   "metadata": {},
   "outputs": [],
   "source": [
    "# check the amount \n",
    "fund"
   ]
  },
  {
   "cell_type": "code",
   "execution_count": null,
   "id": "e01b285c-8d4a-4a92-96ee-b6bdd5976b53",
   "metadata": {},
   "outputs": [],
   "source": [
    "average_2019 = 3336433200/1056\n",
    "average_2020 = 90549976604/ 802\n",
    "average_2021 = 179813412000/77"
   ]
  },
  {
   "cell_type": "code",
   "execution_count": null,
   "id": "57928955-7a3b-499a-a11f-92dc64abf008",
   "metadata": {},
   "outputs": [],
   "source": [
    "print ('2019 average funding was ' ,average_2019, '\\n')\n",
    "print ('2020 average funding was ' ,average_2020, '\\n')\n",
    "print ('2021 average funding was ' ,average_2021, '\\n')"
   ]
  },
  {
   "cell_type": "markdown",
   "id": "4dfbb58c-ef74-4422-8c40-5f26603ab33e",
   "metadata": {},
   "source": [
    "In as much as we would like to know the average of funding per year, we have to understand that the number of companies receiving fundings has been increasing exponentially over the years, I.e;, we had **77 companies in 2019, 802 companies in 2020 and 1056 companies in 2021** , therefore the average or mean value of funding per year will make us make more informed decison on the funding trend "
   ]
  },
  {
   "cell_type": "code",
   "execution_count": null,
   "id": "7ec44b32-57a9-477f-a41d-c587eaf5a4ac",
   "metadata": {},
   "outputs": [],
   "source": [
    "year = ['2019','2020','2021']\n",
    "amount = [3336433200,90549976604, 179813412000 ]\n",
    "companies = [77, 802, 1056]\n",
    "\n",
    "kik = [companies, amount]\n",
    "\n",
    "# pass the results into a dataframe    \n",
    "kik2 = pd.DataFrame(kik)\n",
    "\n",
    "# renaming columns\n",
    "kik2 = kik2.rename(columns = \n",
    "                  {0 : '2019',\n",
    "                   1 : '2020',\n",
    "                   2 : '2021'})\n",
    "# renaming index\n",
    "x = kik2.rename(index={0: \"companies\", 1: \"amount in $\"})\n",
    "  \n",
    "\n",
    "#see the results \n",
    "x"
   ]
  },
  {
   "cell_type": "code",
   "execution_count": null,
   "id": "2abc75e8-cfb4-4544-b9b3-3cdb662021e5",
   "metadata": {},
   "outputs": [],
   "source": [
    "year = ['2019','2020','2021']\n",
    "amount = [3336433200,90549976604, 179813412000 ]\n",
    "companies = [77, 802, 1056]\n",
    "\n",
    "average = [average_2019, average_2020, average_2021]\n",
    "\n",
    "plt.title('AVERAGE FUNDING PER YEAR')\n",
    "sns.lineplot(x = year,y = average ) #hue=companies )\n",
    "    \n",
    "#plt.(x = year, y = average, hue = companies) #hue=companies )"
   ]
  },
  {
   "cell_type": "markdown",
   "id": "a655a8fa-9948-4e8d-9451-481f9022de9d",
   "metadata": {},
   "source": [
    "## 6c) What is the percentage increase of funding from year to year "
   ]
  },
  {
   "cell_type": "markdown",
   "id": "119a41c0-7a28-4b0f-9a91-e11192c919cd",
   "metadata": {},
   "source": [
    "Because we had different number of companies receiving the funding, we will use the average funding received per year to find the % increase as opposed to the total amount of finding received "
   ]
  },
  {
   "cell_type": "code",
   "execution_count": null,
   "id": "94ec1fd7-9446-4c00-a66b-4cf1099fbf38",
   "metadata": {},
   "outputs": [],
   "source": [
    "# Recall the average for every year\n",
    "\n",
    "print (average_2019)\n",
    "print (average_2020)\n",
    "print (average_2021)"
   ]
  },
  {
   "cell_type": "markdown",
   "id": "9e8b2339-be9b-4451-8d40-b3a434177c09",
   "metadata": {},
   "source": [
    "**To get the subsequent year percentage increase**\n",
    "\n",
    "     if   this_year  = 100%\n",
    "     \n",
    "     then next_year  = ( next_year X 100 ) / this_year\n",
    "     \n",
    "**Taking 2019 year to be 100% since it is our start year**"
   ]
  },
  {
   "cell_type": "code",
   "execution_count": null,
   "id": "b2b06665-e0d5-45ab-9dcc-a2e66cce0031",
   "metadata": {},
   "outputs": [],
   "source": [
    "increase1 = ((average_2020*100)/average_2019)-100\n",
    "increase2 = ((average_2021*100)/average_2020)-100"
   ]
  },
  {
   "cell_type": "code",
   "execution_count": null,
   "id": "6db91c96-05ba-4d1f-9f14-63d291207e92",
   "metadata": {},
   "outputs": [],
   "source": [
    "print ('2019  % is taken as 100 ')\n",
    "print ('2019 - 2020 % change is ', increase1)\n",
    "print ('2020 - 2021 % change is ', increase2)"
   ]
  },
  {
   "cell_type": "code",
   "execution_count": null,
   "id": "1a593ce4-e913-4699-b047-53e2da83c876",
   "metadata": {},
   "outputs": [],
   "source": [
    "year = ['2019','2020','2021']\n",
    "increase = [100 , 3473, 1968 ]\n",
    "\n",
    "\n",
    "plt.title('percentage increase in funding from year to year')\n",
    "sns.lineplot(x = year,y = increase ) \n",
    "    \n"
   ]
  },
  {
   "cell_type": "markdown",
   "id": "dc1dff30-8855-40c6-bb90-25007863ef26",
   "metadata": {},
   "source": [
    "\n",
    "\n",
    "We left out the 2018 dataset in this analysis but cound still recognize an encouraging trend on the amount on funding over the years. \n",
    "\n",
    "**OBSERVATIONS**\n",
    "   *Of The total funding received thus far*\n",
    "   \n",
    "      - 2019 has 1 % of the total funding amount, average of 3159501\n",
    "      \n",
    "      - 2020 has 33 % of the total funding amount, average of 112905207\n",
    "      \n",
    "      - 2021 has 66 % of the total funding amount, average of 2335239116\n",
    "      \n",
    "  *Of the 1935 companies funded so far*\n",
    "      \n",
    "       - 2019 has 77 companies i.e, 3.9% of the companies\n",
    "       \n",
    "       - 2020 has 802 companies i.e, 41.44 % of the companies\n",
    "       \n",
    "       - 2021 has 1035 companies i.e, 53.5 % of the companies\n",
    "      \n",
    "There's is absolutely an encouraging trend on the amount of funding the companies have been receiving over the years ( Average),\n",
    "\n",
    "Despite the number of companies that receive funding increase, there average amount received is still increasing over the years. "
   ]
  },
  {
   "cell_type": "markdown",
   "id": "5a811d50-63d2-4e3a-b166-0fc12659aaa4",
   "metadata": {},
   "source": [
    "# 6 d)  The number of  companies each year "
   ]
  },
  {
   "cell_type": "code",
   "execution_count": null,
   "id": "1dbbfdd7-f744-4bd0-927f-6a43975e9f97",
   "metadata": {},
   "outputs": [],
   "source": [
    "x"
   ]
  },
  {
   "cell_type": "code",
   "execution_count": null,
   "id": "a4316aec-462c-406e-8911-1f1a369e25d2",
   "metadata": {},
   "outputs": [],
   "source": [
    "x.T"
   ]
  },
  {
   "cell_type": "code",
   "execution_count": null,
   "id": "95435952-5285-4834-8a7a-fba19b38ad39",
   "metadata": {},
   "outputs": [],
   "source": [
    "year = ['2019', '2020', '2021']\n",
    "\n",
    "number_of_companies = [77, 802, 1056] \n",
    "\n",
    "amount_received = [3336433200 , 90549976604, 179813412000 ]\n",
    "plt.xlabel('YEAR')\n",
    "plt.ylabel('NUMBER OF COMPANIES')\n",
    "#plt.title(\"Number of companies per year\")\n",
    "\n",
    "plt.bar(  year , number_of_companies)\n",
    "\n",
    "plt.show()"
   ]
  },
  {
   "cell_type": "code",
   "execution_count": null,
   "id": "50e93366-0fae-41b9-9e6a-ee55f7486ba5",
   "metadata": {},
   "outputs": [],
   "source": []
  },
  {
   "cell_type": "markdown",
   "id": "8ca6ffc3-380f-44c6-bebd-8dbb81fcbd38",
   "metadata": {},
   "source": [
    "# DEEP DIVE ON UNDISCLOSED STAGE SERIES"
   ]
  },
  {
   "cell_type": "markdown",
   "id": "d60b5069-9fbe-452e-a848-82735cb809b8",
   "metadata": {},
   "source": [
    "# a ) What is the percentage funding received by companies that didn't disclose their stages"
   ]
  },
  {
   "cell_type": "code",
   "execution_count": null,
   "id": "3d025585-69d0-498d-a288-b9625e0db209",
   "metadata": {},
   "outputs": [],
   "source": [
    "# Get the amount received for undisclosed column\n",
    "\n",
    "undisclosed = new2.loc[new2['Stage']=='undisclosed']"
   ]
  },
  {
   "cell_type": "code",
   "execution_count": null,
   "id": "f30de71e-00c2-40f0-8af4-43c63cbd1adc",
   "metadata": {},
   "outputs": [],
   "source": [
    "# Get the total amount received\n",
    "\n",
    "total = new2['Amount($)'].apply(int).sum()"
   ]
  },
  {
   "cell_type": "code",
   "execution_count": null,
   "id": "2e0c7cbc-1da9-4267-9417-9725a41b4375",
   "metadata": {},
   "outputs": [],
   "source": [
    "# amount recived for disclosed vs undisclosed \n",
    "\n",
    "amount_received_undisclosed = undisclosed['Amount($)'].apply(int).sum()\n",
    "\n",
    "amount_received_disclosed = total - amount_received_undisclosed"
   ]
  },
  {
   "cell_type": "code",
   "execution_count": null,
   "id": "5d5a99ab-f31b-4f4b-b2a6-e98697e7fa51",
   "metadata": {},
   "outputs": [],
   "source": [
    "# show the results for undisclosed and disclosed\n",
    "\n",
    "print ('Total amount for undisclosed column is ', amount_received_undisclosed )\n",
    "print ('Total amount for disclosed column is ', amount_received_disclosed)"
   ]
  },
  {
   "cell_type": "code",
   "execution_count": null,
   "id": "3b4ffc7f-cf2e-4ddc-b2b2-b084b228c49d",
   "metadata": {},
   "outputs": [],
   "source": [
    "# create a visual for comparison of amount received in disclosed vs undisclosed \n",
    "plt.title = ('Amount received disclosed vs undisclosed')\n",
    "labels = ['disclosed their stage', 'undisclosed their stage']\n",
    "amount = [173518782730 , 100181039074]\n",
    "plt.style.use('ggplot')\n",
    "plt.pie(x = amount, labels= labels , autopct = '%.2f%%' )\n",
    "\n",
    "\n",
    "plt.show()"
   ]
  },
  {
   "cell_type": "markdown",
   "id": "564d1bc8-7438-4760-8370-e514c9015625",
   "metadata": {},
   "source": [
    "# b) Which sectors were willing to disclose their funding stages to the public"
   ]
  },
  {
   "cell_type": "code",
   "execution_count": null,
   "id": "4464ee2a-9cf4-4cf3-867b-d4f202d7c87b",
   "metadata": {},
   "outputs": [],
   "source": [
    "undisclosed['Sector'].value_counts().head(15)"
   ]
  },
  {
   "cell_type": "code",
   "execution_count": null,
   "id": "bc4967fe-c1af-4e7b-9308-6c6b5cb4c748",
   "metadata": {},
   "outputs": [],
   "source": [
    "new2['Sector'].value_counts().head(15)"
   ]
  },
  {
   "cell_type": "code",
   "execution_count": null,
   "id": "fad1b745-dc54-4db1-a6c0-9ebaa4471059",
   "metadata": {},
   "outputs": [],
   "source": [
    "Fintech = ( 79 / 222 ) * 100\n",
    "EdTech =  ( 61 / 170 ) * 100\n",
    "Ecommerce =    (29   / 67) * 100\n",
    "Financial_Services =( 16 / 58) * 100\n",
    "AgriTech = (11 / 39) * 100\n",
    "Information_Technology_Services = (13 / 36) * 100\n",
    "Gaming = (14 / 31) * 100\n",
    "Food_Beverages = (11 / 31) * 100\n"
   ]
  },
  {
   "cell_type": "code",
   "execution_count": null,
   "id": "9baa55e3-6899-4755-bb0f-28907f7a2ec1",
   "metadata": {},
   "outputs": [],
   "source": [
    "dict1 = { 'Fintech': 36, \n",
    "'EdTech' : 36, \n",
    "'Ecommerce' : 43, \n",
    "'Financial_Services': 28,\n",
    "'AgriTech' : 28,\n",
    "'Information_Technology_Services': 36,\n",
    "'Gaming' : 45,\n",
    "'Food_Beverages': 35}\n",
    "\n",
    "list1 = ['Fintech', 'EdTech', 'Ecommerce', 'Financial_Services', 'AgriTech', 'Information_Technology_Services', 'Gaming','Food_Beverages']\n",
    "percentage = ['36%', '36%', '43%', '28%', '28%', '36%', '45%', '35%']\n",
    "\n",
    "per = [list1, percentage]\n",
    "\n",
    "#pass results into a DataFrame\n",
    "\n",
    "per2 = pd.DataFrame(per)\n",
    "\n",
    "# renaming columns\n",
    "#per2 = per2.rename(columns = \n",
    "                 #{0 : 'Company Sector',\n",
    "                  #1 : ' % that remained undisclosed',\n",
    "                 #})\n",
    "# renaming index\n",
    "x2 = per2.rename(index={0: \"Company Sector\", 1: \"% that remained undisclosed\"})"
   ]
  },
  {
   "cell_type": "code",
   "execution_count": null,
   "id": "11dd46fd-c8ab-4ab3-a667-f5b1312ff22e",
   "metadata": {},
   "outputs": [],
   "source": [
    "x2.T"
   ]
  },
  {
   "cell_type": "markdown",
   "id": "a5e95e72-601b-4aa0-9a64-ad7a9fb054c6",
   "metadata": {},
   "source": [
    "The above DataFrame shows the top 8 companies, and the percentage that choose to remain undisclosed "
   ]
  },
  {
   "cell_type": "markdown",
   "id": "3ed410c9-38b9-4f66-b751-d2c2f03fa343",
   "metadata": {},
   "source": [
    "# HYPOTHESIS TESTING"
   ]
  },
  {
   "cell_type": "markdown",
   "id": "83fde65f-1d83-4b3f-860c-0c665b24b3c1",
   "metadata": {},
   "source": [
    "### Hypothesis\n",
    "      Funding has been increasing over the years\n",
    "### Alternate Hypothesis\n",
    "  Funding has remained constant over the years"
   ]
  },
  {
   "cell_type": "code",
   "execution_count": null,
   "id": "f1205206-ee74-4062-9806-52e70032c2e9",
   "metadata": {},
   "outputs": [],
   "source": [
    "# This has been clear from our answered questions set, To confirm we'll do a hypothesis test"
   ]
  },
  {
   "cell_type": "code",
   "execution_count": null,
   "id": "71c59da0-36df-40dd-be2a-a0c552d097a9",
   "metadata": {},
   "outputs": [],
   "source": [
    "from scipy import stats\n",
    "import statistics as stat\n",
    "import math "
   ]
  },
  {
   "cell_type": "markdown",
   "id": "a9a22514-35d8-46bc-9d52-0d878fc93056",
   "metadata": {},
   "source": [
    "Since we are comparing between 3 values that are ascending, i.e, each value based on the next preceding value ... we will use t test , But specify year to year so that if  **p > 0.05 more than twice we accept our Null Hypothesis**\n",
    "\n",
    "We have set our significant value to be 10%"
   ]
  },
  {
   "cell_type": "code",
   "execution_count": null,
   "id": "457aff9b-d946-40c4-9567-22567ad01158",
   "metadata": {},
   "outputs": [],
   "source": [
    "# for 2019 - 2020\n",
    "t, p = stats.ttest_ind( funding_2019 ['Amount($)'].apply(int), funding_2020 ['Amount($)'].apply(int))\n",
    "\n",
    "print('t value is ', t)\n",
    "print('p value is' , p)"
   ]
  },
  {
   "cell_type": "code",
   "execution_count": null,
   "id": "c9ff8ea4-5bce-4e8c-a1c4-086093da4ec0",
   "metadata": {},
   "outputs": [],
   "source": [
    "# for 2020 - 2021\n",
    "t, p = stats.ttest_ind( funding_2020 ['Amount($)'].apply(int), funding_2021 ['Amount($)'].apply(int))\n",
    "\n",
    "print('t value is ', t)\n",
    "print('p value is' , p)"
   ]
  },
  {
   "cell_type": "markdown",
   "id": "976a28f0-5120-47f3-9692-bc71e0e1fbbe",
   "metadata": {},
   "source": [
    "\n",
    "\n",
    "Our p value is > than our significant value, Then we accept our Null Hypothesis. \n",
    "\n",
    "**Funding has been increasing over the years**"
   ]
  },
  {
   "cell_type": "markdown",
   "id": "ac19e5c2-0ff4-4f9c-a788-1fd926deeb56",
   "metadata": {},
   "source": [
    "## export our combined dataset into a csv format for powerBi"
   ]
  },
  {
   "cell_type": "code",
   "execution_count": 66,
   "id": "cff63bc9-ac80-4409-b565-90180efd3acb",
   "metadata": {},
   "outputs": [],
   "source": [
    "# convert the file to csv \n",
    "new3 = combined_data\n",
    "new_combined_data = new3.to_csv('combined_dataset_analysis.csv')"
   ]
  },
  {
   "cell_type": "code",
   "execution_count": 67,
   "id": "43459b97-03e7-48dc-9551-3ba86705e791",
   "metadata": {},
   "outputs": [
    {
     "name": "stdout",
     "output_type": "stream",
     "text": [
      "PYTHONPATH: None\n",
      "PATH: C:\\Users\\DEVICES\\anaconda3;C:\\Users\\DEVICES\\anaconda3\\Library\\mingw-w64\\bin;C:\\Users\\DEVICES\\anaconda3\\Library\\usr\\bin;C:\\Users\\DEVICES\\anaconda3\\Library\\bin;C:\\Users\\DEVICES\\anaconda3\\Scripts;C:\\Users\\DEVICES\\anaconda3\\bin;C:\\Users\\DEVICES\\anaconda3\\condabin;C:\\Users\\DEVICES\\anaconda3;C:\\Users\\DEVICES\\anaconda3\\Library\\mingw-w64\\bin;C:\\Users\\DEVICES\\anaconda3\\Library\\usr\\bin;C:\\Users\\DEVICES\\anaconda3\\Library\\bin;C:\\Users\\DEVICES\\anaconda3\\Scripts;C:\\WINDOWS\\system32;C:\\WINDOWS;C:\\WINDOWS\\System32\\Wbem;C:\\WINDOWS\\System32\\WindowsPowerShell\\v1.0;C:\\WINDOWS\\System32\\OpenSSH;C:\\Program Files\\Microsoft SQL Server\\Client SDK\\ODBC\\130\\Tools\\Binn;C:\\Program Files (x86)\\Microsoft SQL Server\\130\\Tools\\Binn;C:\\Program Files\\Microsoft SQL Server\\130\\Tools\\Binn;C:\\Program Files\\Microsoft SQL Server\\130\\DTS\\Binn;C:\\Program Files\\dotnet;C:\\Program Files (x86)\\dotnet;C:\\JupyterLab;C:\\Program Files\\MySQL\\MySQL Server 8.0\\bin;C:\\Program Files\\Git\\cmd;C:\\Program Files\\MySQL\\MySQL Shell 8.0\\bin;C:\\Users\\DEVICES\\AppData\\Local\\Programs\\Python\\Python310\\Scripts;C:\\Users\\DEVICES\\AppData\\Local\\Programs\\Python\\Python310;C:\\Users\\DEVICES\\AppData\\Local\\Microsoft\\WindowsApps;C:\\Users\\DEVICES\\AppData\\Local\\Programs\\Microsoft VS Code\\bin;C:\\Users\\DEVICES\\AppData\\Local\\GitHubDesktop\\bin\n"
     ]
    }
   ],
   "source": [
    "import os\n",
    "print(\"PYTHONPATH:\", os.environ.get('PYTHONPATH'))\n",
    "print(\"PATH:\", os.environ.get('PATH'))"
   ]
  },
  {
   "cell_type": "code",
   "execution_count": null,
   "id": "c88c1843-b493-417c-9ae1-049106076c9e",
   "metadata": {},
   "outputs": [],
   "source": []
  },
  {
   "cell_type": "code",
   "execution_count": null,
   "id": "eedfc928-40f0-441f-9830-1ee0f48b20c7",
   "metadata": {},
   "outputs": [],
   "source": []
  },
  {
   "cell_type": "code",
   "execution_count": null,
   "id": "43560751-b469-43e8-93b1-be5bab01135b",
   "metadata": {},
   "outputs": [],
   "source": []
  },
  {
   "cell_type": "code",
   "execution_count": null,
   "id": "70469885-c42b-4fd4-953f-0602b74b7b21",
   "metadata": {},
   "outputs": [],
   "source": []
  }
 ],
 "metadata": {
  "kernelspec": {
   "display_name": "Python 3 (ipykernel)",
   "language": "python",
   "name": "python3"
  },
  "language_info": {
   "codemirror_mode": {
    "name": "ipython",
    "version": 3
   },
   "file_extension": ".py",
   "mimetype": "text/x-python",
   "name": "python",
   "nbconvert_exporter": "python",
   "pygments_lexer": "ipython3",
   "version": "3.9.7"
  }
 },
 "nbformat": 4,
 "nbformat_minor": 5
}
